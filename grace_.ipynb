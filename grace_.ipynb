{
 "cells": [
  {
   "cell_type": "code",
   "execution_count": 66,
   "id": "dd4a2b8a",
   "metadata": {},
   "outputs": [],
   "source": [
    "import pandas as pd\n",
    "import numpy as np\n",
    "import plotly.express as px"
   ]
  },
  {
   "cell_type": "code",
   "execution_count": 3,
   "id": "be0ca692",
   "metadata": {},
   "outputs": [
    {
     "data": {
      "text/html": [
       "<div>\n",
       "<style scoped>\n",
       "    .dataframe tbody tr th:only-of-type {\n",
       "        vertical-align: middle;\n",
       "    }\n",
       "\n",
       "    .dataframe tbody tr th {\n",
       "        vertical-align: top;\n",
       "    }\n",
       "\n",
       "    .dataframe thead th {\n",
       "        text-align: right;\n",
       "    }\n",
       "</style>\n",
       "<table border=\"1\" class=\"dataframe\">\n",
       "  <thead>\n",
       "    <tr style=\"text-align: right;\">\n",
       "      <th></th>\n",
       "      <th>id</th>\n",
       "      <th>name</th>\n",
       "      <th>host_id</th>\n",
       "      <th>host_name</th>\n",
       "      <th>host_location</th>\n",
       "      <th>neighbourhood</th>\n",
       "      <th>latitude</th>\n",
       "      <th>longitude</th>\n",
       "      <th>room_type</th>\n",
       "      <th>accommodates</th>\n",
       "      <th>...</th>\n",
       "      <th>min_nights</th>\n",
       "      <th>max_nights</th>\n",
       "      <th>estimated_occupancy_l365d</th>\n",
       "      <th>estimated_revenue_l365d</th>\n",
       "      <th>last_review</th>\n",
       "      <th>reviews_per_month</th>\n",
       "      <th>number_of_reviews</th>\n",
       "      <th>total_listings</th>\n",
       "      <th>availability_365</th>\n",
       "      <th>number_of_reviews_ltm</th>\n",
       "    </tr>\n",
       "  </thead>\n",
       "  <tbody>\n",
       "    <tr>\n",
       "      <th>0</th>\n",
       "      <td>3344</td>\n",
       "      <td>White House-Center City, entire 2BR/2BA Condo</td>\n",
       "      <td>4957</td>\n",
       "      <td>A.J.</td>\n",
       "      <td>Washington, DC</td>\n",
       "      <td>Downtown, Chinatown, Penn Quarters, Mount Vern...</td>\n",
       "      <td>38.90145</td>\n",
       "      <td>-77.02679</td>\n",
       "      <td>Entire home/apt</td>\n",
       "      <td>2</td>\n",
       "      <td>...</td>\n",
       "      <td>59</td>\n",
       "      <td>370</td>\n",
       "      <td>0</td>\n",
       "      <td>0</td>\n",
       "      <td>2016-08-31</td>\n",
       "      <td>0.05</td>\n",
       "      <td>10</td>\n",
       "      <td>2</td>\n",
       "      <td>362</td>\n",
       "      <td>0</td>\n",
       "    </tr>\n",
       "    <tr>\n",
       "      <th>1</th>\n",
       "      <td>3686</td>\n",
       "      <td>Vita's Hideaway</td>\n",
       "      <td>4645</td>\n",
       "      <td>Vita</td>\n",
       "      <td>Washington D.C., DC</td>\n",
       "      <td>Historic Anacostia</td>\n",
       "      <td>38.86339</td>\n",
       "      <td>-76.98889</td>\n",
       "      <td>Private room</td>\n",
       "      <td>1</td>\n",
       "      <td>...</td>\n",
       "      <td>31</td>\n",
       "      <td>365</td>\n",
       "      <td>0</td>\n",
       "      <td>0</td>\n",
       "      <td>2023-08-30</td>\n",
       "      <td>0.47</td>\n",
       "      <td>84</td>\n",
       "      <td>1</td>\n",
       "      <td>298</td>\n",
       "      <td>0</td>\n",
       "    </tr>\n",
       "    <tr>\n",
       "      <th>2</th>\n",
       "      <td>3943</td>\n",
       "      <td>Historic Rowhouse Near Monuments</td>\n",
       "      <td>5059</td>\n",
       "      <td>Vasa</td>\n",
       "      <td>Washington, DC</td>\n",
       "      <td>Edgewood, Bloomingdale, Truxton Circle, Eckington</td>\n",
       "      <td>38.91195</td>\n",
       "      <td>-77.00456</td>\n",
       "      <td>Private room</td>\n",
       "      <td>2</td>\n",
       "      <td>...</td>\n",
       "      <td>1</td>\n",
       "      <td>1125</td>\n",
       "      <td>246</td>\n",
       "      <td>19434</td>\n",
       "      <td>2025-05-27</td>\n",
       "      <td>2.78</td>\n",
       "      <td>546</td>\n",
       "      <td>5</td>\n",
       "      <td>331</td>\n",
       "      <td>41</td>\n",
       "    </tr>\n",
       "    <tr>\n",
       "      <th>3</th>\n",
       "      <td>4197</td>\n",
       "      <td>Capitol Hill Bedroom walk to Metro</td>\n",
       "      <td>5061</td>\n",
       "      <td>Sandra</td>\n",
       "      <td>Washington D.C., DC</td>\n",
       "      <td>Capitol Hill, Lincoln Park</td>\n",
       "      <td>38.88719</td>\n",
       "      <td>-76.99472</td>\n",
       "      <td>Private room</td>\n",
       "      <td>1</td>\n",
       "      <td>...</td>\n",
       "      <td>6</td>\n",
       "      <td>29</td>\n",
       "      <td>72</td>\n",
       "      <td>9216</td>\n",
       "      <td>2025-05-20</td>\n",
       "      <td>0.34</td>\n",
       "      <td>67</td>\n",
       "      <td>2</td>\n",
       "      <td>346</td>\n",
       "      <td>6</td>\n",
       "    </tr>\n",
       "    <tr>\n",
       "      <th>4</th>\n",
       "      <td>4529</td>\n",
       "      <td>Bertina's  House Part One</td>\n",
       "      <td>5803</td>\n",
       "      <td>Bertina</td>\n",
       "      <td>Washington, DC</td>\n",
       "      <td>Eastland Gardens, Kenilworth</td>\n",
       "      <td>38.90585</td>\n",
       "      <td>-76.94469</td>\n",
       "      <td>Private room</td>\n",
       "      <td>2</td>\n",
       "      <td>...</td>\n",
       "      <td>30</td>\n",
       "      <td>1125</td>\n",
       "      <td>0</td>\n",
       "      <td>0</td>\n",
       "      <td>2019-07-05</td>\n",
       "      <td>0.53</td>\n",
       "      <td>102</td>\n",
       "      <td>2</td>\n",
       "      <td>63</td>\n",
       "      <td>0</td>\n",
       "    </tr>\n",
       "  </tbody>\n",
       "</table>\n",
       "<p>5 rows × 25 columns</p>\n",
       "</div>"
      ],
      "text/plain": [
       "     id                                           name  host_id host_name  \\\n",
       "0  3344  White House-Center City, entire 2BR/2BA Condo     4957      A.J.   \n",
       "1  3686                                Vita's Hideaway     4645      Vita   \n",
       "2  3943               Historic Rowhouse Near Monuments     5059      Vasa   \n",
       "3  4197             Capitol Hill Bedroom walk to Metro     5061    Sandra   \n",
       "4  4529                      Bertina's  House Part One     5803   Bertina   \n",
       "\n",
       "         host_location                                      neighbourhood  \\\n",
       "0       Washington, DC  Downtown, Chinatown, Penn Quarters, Mount Vern...   \n",
       "1  Washington D.C., DC                                 Historic Anacostia   \n",
       "2       Washington, DC  Edgewood, Bloomingdale, Truxton Circle, Eckington   \n",
       "3  Washington D.C., DC                         Capitol Hill, Lincoln Park   \n",
       "4       Washington, DC                       Eastland Gardens, Kenilworth   \n",
       "\n",
       "   latitude  longitude        room_type  accommodates  ...  min_nights  \\\n",
       "0  38.90145  -77.02679  Entire home/apt             2  ...          59   \n",
       "1  38.86339  -76.98889     Private room             1  ...          31   \n",
       "2  38.91195  -77.00456     Private room             2  ...           1   \n",
       "3  38.88719  -76.99472     Private room             1  ...           6   \n",
       "4  38.90585  -76.94469     Private room             2  ...          30   \n",
       "\n",
       "   max_nights  estimated_occupancy_l365d estimated_revenue_l365d  last_review  \\\n",
       "0         370                          0                       0   2016-08-31   \n",
       "1         365                          0                       0   2023-08-30   \n",
       "2        1125                        246                   19434   2025-05-27   \n",
       "3          29                         72                    9216   2025-05-20   \n",
       "4        1125                          0                       0   2019-07-05   \n",
       "\n",
       "   reviews_per_month  number_of_reviews  total_listings  availability_365  \\\n",
       "0               0.05                 10               2               362   \n",
       "1               0.47                 84               1               298   \n",
       "2               2.78                546               5               331   \n",
       "3               0.34                 67               2               346   \n",
       "4               0.53                102               2                63   \n",
       "\n",
       "  number_of_reviews_ltm  \n",
       "0                     0  \n",
       "1                     0  \n",
       "2                    41  \n",
       "3                     6  \n",
       "4                     0  \n",
       "\n",
       "[5 rows x 25 columns]"
      ]
     },
     "execution_count": 3,
     "metadata": {},
     "output_type": "execute_result"
    }
   ],
   "source": [
    "airbnbs=pd.read_csv('final_dc.csv')\n",
    "airbnbs.head()"
   ]
  },
  {
   "cell_type": "code",
   "execution_count": 38,
   "id": "2148fc53",
   "metadata": {},
   "outputs": [
    {
     "data": {
      "text/plain": [
       "Index(['id', 'name', 'host_id', 'host_name', 'host_location', 'neighbourhood',\n",
       "       'latitude', 'longitude', 'room_type', 'accommodates', 'bathrooms',\n",
       "       'bedrooms', 'beds', 'amenities', 'price', 'min_nights', 'max_nights',\n",
       "       'estimated_occupancy_l365d', 'estimated_revenue_l365d', 'last_review',\n",
       "       'reviews_per_month', 'number_of_reviews', 'total_listings',\n",
       "       'availability_365', 'number_of_reviews_ltm'],\n",
       "      dtype='object')"
      ]
     },
     "execution_count": 38,
     "metadata": {},
     "output_type": "execute_result"
    }
   ],
   "source": [
    "airbnbs.columns"
   ]
  },
  {
   "cell_type": "markdown",
   "id": "84aae5ed",
   "metadata": {},
   "source": [
    "## Bathrooms"
   ]
  },
  {
   "cell_type": "code",
   "execution_count": 45,
   "id": "96ef8082",
   "metadata": {},
   "outputs": [
    {
     "name": "stdout",
     "output_type": "stream",
     "text": [
      "count    6423.000000\n",
      "mean        0.931963\n",
      "std         0.744257\n",
      "min         0.000000\n",
      "25%         0.000000\n",
      "50%         1.000000\n",
      "75%         1.000000\n",
      "max         7.000000\n",
      "Name: bathrooms, dtype: float64\n",
      "bathrooms\n",
      "1.0    3726\n",
      "0.0    1696\n",
      "2.0     792\n",
      "3.0     166\n",
      "4.0      39\n",
      "5.0       3\n",
      "7.0       1\n",
      "Name: count, dtype: int64\n"
     ]
    }
   ],
   "source": [
    "print(airbnbs['bathrooms'].describe())\n",
    "print(airbnbs['bathrooms'].value_counts())"
   ]
  },
  {
   "cell_type": "code",
   "execution_count": 46,
   "id": "f1ac2bdd",
   "metadata": {},
   "outputs": [
    {
     "name": "stdout",
     "output_type": "stream",
     "text": [
      "bathrooms\n",
      "False    6423\n",
      "Name: count, dtype: int64\n"
     ]
    }
   ],
   "source": [
    "print(airbnbs['bathrooms'].isna().value_counts())"
   ]
  },
  {
   "cell_type": "code",
   "execution_count": 57,
   "id": "80ffc7df",
   "metadata": {},
   "outputs": [
    {
     "name": "stdout",
     "output_type": "stream",
     "text": [
      "[1. 1. 1. ... 2. 1. 1.]\n"
     ]
    },
    {
     "data": {
      "text/plain": [
       "np.float64(0.9319632570449945)"
      ]
     },
     "execution_count": 57,
     "metadata": {},
     "output_type": "execute_result"
    }
   ],
   "source": [
    "x=airbnbs['bathrooms'].to_numpy()\n",
    "print(x)\n",
    "mean=np.mean(x)\n",
    "mean\n"
   ]
  },
  {
   "cell_type": "code",
   "execution_count": 61,
   "id": "b5f51fbe",
   "metadata": {},
   "outputs": [
    {
     "data": {
      "text/plain": [
       "array([2., 2., 2., ..., 3., 3., 2.], shape=(1001,))"
      ]
     },
     "execution_count": 61,
     "metadata": {},
     "output_type": "execute_result"
    }
   ],
   "source": [
    "first_quantile=np.quantile(x,0.25)\n",
    "third_quantile=np.quantile(x,0.75)\n",
    "IQR= third_quantile-first_quantile\n",
    "outliers=x[(x<first_quantile)| (x>third_quantile)]\n",
    "outliers"
   ]
  },
  {
   "cell_type": "markdown",
   "id": "9f9f4e44",
   "metadata": {},
   "source": [
    "## Location"
   ]
  },
  {
   "cell_type": "code",
   "execution_count": 19,
   "id": "2b2d0400",
   "metadata": {},
   "outputs": [
    {
     "data": {
      "text/plain": [
       "host_location\n",
       "False    5084\n",
       "True     1339\n",
       "Name: count, dtype: int64"
      ]
     },
     "execution_count": 19,
     "metadata": {},
     "output_type": "execute_result"
    }
   ],
   "source": [
    "airbnbs['host_location'].isna().value_counts()"
   ]
  },
  {
   "cell_type": "code",
   "execution_count": 22,
   "id": "0664d2cd",
   "metadata": {},
   "outputs": [],
   "source": [
    "airbnbs['host_location']=airbnbs['host_location'].replace('Washington, D.C., DC','Washington, DC')\n"
   ]
  },
  {
   "cell_type": "code",
   "execution_count": 29,
   "id": "3a581126",
   "metadata": {},
   "outputs": [],
   "source": [
    "airbnbs['host_location']=airbnbs['host_location'].replace('Washington D.C., DC','Washington, DC')"
   ]
  },
  {
   "cell_type": "code",
   "execution_count": 35,
   "id": "3097db1b",
   "metadata": {},
   "outputs": [],
   "source": [
    "airbnbs['host_location']=airbnbs['host_location'].fillna('Unknown')"
   ]
  },
  {
   "cell_type": "code",
   "execution_count": null,
   "id": "076787b4",
   "metadata": {},
   "outputs": [
    {
     "data": {
      "text/plain": [
       "{'Abell, MD',\n",
       " 'Alexandria, VA',\n",
       " 'Anchorage, AK',\n",
       " 'Ann Arbor, MI',\n",
       " 'Annapolis, MD',\n",
       " 'Arlington, TX',\n",
       " 'Arlington, VA',\n",
       " 'Ashburn, VA',\n",
       " 'Asheville, NC',\n",
       " 'Ashton-Sandy Spring, MD',\n",
       " 'Atlanta, GA',\n",
       " 'Austin, TX',\n",
       " 'Baltimore, MD',\n",
       " 'Beacon Falls, CT',\n",
       " 'Bend, OR',\n",
       " 'Berkeley, CA',\n",
       " 'Berlin, Germany',\n",
       " 'Berryville, VA',\n",
       " 'Bethesda, MD',\n",
       " 'Bogotá, Colombia',\n",
       " 'Boston, MA',\n",
       " 'Bowie, MD',\n",
       " 'Brainerd, MN',\n",
       " 'Burke, VA',\n",
       " 'Cambridge, MA',\n",
       " 'Cape Canaveral, FL',\n",
       " 'Catonsville, MD',\n",
       " 'Centreville, VA',\n",
       " 'Charleston, SC',\n",
       " 'Charlottesville, VA',\n",
       " 'Chevy Chase, MD',\n",
       " 'Chicago, IL',\n",
       " 'Clinton, MD',\n",
       " 'Columbus, OH',\n",
       " 'Constanza, Dominican Republic',\n",
       " 'Dallas, TX',\n",
       " 'Denver, CO',\n",
       " 'District Heights, MD',\n",
       " 'Dubai, United Arab Emirates',\n",
       " 'Dunedin, FL',\n",
       " 'Eagan, MN',\n",
       " 'Edenton, NC',\n",
       " 'Ellicott City, MD',\n",
       " 'Emeryville, CA',\n",
       " 'Evergreen, CO',\n",
       " 'Fairbanks, AK',\n",
       " 'Fairfax, VA',\n",
       " 'Falls Church, VA',\n",
       " 'Florida, United States',\n",
       " 'Fort Lauderdale, FL',\n",
       " 'Fort Washington, MD',\n",
       " 'Frederick, MD',\n",
       " 'Fredericksburg, VA',\n",
       " 'Gainesville, VA',\n",
       " 'Gaithersburg, MD',\n",
       " 'Georgetown, TX',\n",
       " 'Germantown, MD',\n",
       " 'Greenbelt, MD',\n",
       " 'Gulfport, FL',\n",
       " 'Hackettstown, NJ',\n",
       " 'Hamburg, NY',\n",
       " 'Harpers Ferry, WV',\n",
       " 'Hawthorne, NJ',\n",
       " 'Herndon, VA',\n",
       " 'Herriman, UT',\n",
       " 'Houston, TX',\n",
       " 'Hyattsville, MD',\n",
       " 'Ibanda, Uganda',\n",
       " 'Indianapolis, IN',\n",
       " 'Indore, India',\n",
       " 'Jacksonville, FL',\n",
       " 'Jerusalem, Israel',\n",
       " 'Jupiter, FL',\n",
       " 'Kigali, Rwanda',\n",
       " 'Kyiv, Ukraine',\n",
       " 'La Quinta, CA',\n",
       " 'Lexington Park, MD',\n",
       " 'Lima, Peru',\n",
       " 'Lombard, IL',\n",
       " 'London, United Kingdom',\n",
       " 'Los Angeles, CA',\n",
       " 'Madrid, Spain',\n",
       " 'Magnolia, DE',\n",
       " 'Maryland, United States',\n",
       " 'McLean, VA',\n",
       " 'Mexico City, Mexico',\n",
       " 'Miami, FL',\n",
       " 'Missouri City, TX',\n",
       " 'Mount Vernon, NY',\n",
       " 'Nairobi, Kenya',\n",
       " 'Nashville, TN',\n",
       " 'New York, NY',\n",
       " 'New York, United States',\n",
       " 'Norfolk, VA',\n",
       " 'North Potomac, MD',\n",
       " 'Oakton, VA',\n",
       " 'Ocean City, MD',\n",
       " 'Palm Beach, FL',\n",
       " 'Paris, France',\n",
       " 'Phoenix, AZ',\n",
       " 'Pompano Beach, FL',\n",
       " 'Port Tobacco, MD',\n",
       " 'Punta Uva, Costa Rica',\n",
       " 'Reddick, FL',\n",
       " 'Reston, VA',\n",
       " 'Rockville, MD',\n",
       " 'Rocky Point, NY',\n",
       " 'Sacramento, CA',\n",
       " 'Saint Leonard, MD',\n",
       " 'San Diego, CA',\n",
       " 'San Francisco, CA',\n",
       " 'San Miguel de Allende, Mexico',\n",
       " 'Sarasota, FL',\n",
       " 'Scottsdale, AZ',\n",
       " 'Seattle, WA',\n",
       " 'Silver Spring, MD',\n",
       " 'Sneads Ferry, NC',\n",
       " 'Springfield, VA',\n",
       " 'St. Petersburg, FL',\n",
       " 'Sydney, Australia',\n",
       " 'Takoma Park, MD',\n",
       " 'Tampa, FL',\n",
       " 'Treasure Beach, Jamaica',\n",
       " 'Tysons, VA',\n",
       " 'United States',\n",
       " 'Unknown',\n",
       " 'Upper Marlboro, MD',\n",
       " 'Vienna, VA',\n",
       " 'Villa Rica, GA',\n",
       " 'Virginia, United States',\n",
       " 'Washington, DC',\n",
       " 'Washington, United States',\n",
       " 'West Hartford, CT',\n",
       " 'West Hollywood, CA',\n",
       " 'Williamsburg, VA'}"
      ]
     },
     "execution_count": 37,
     "metadata": {},
     "output_type": "execute_result"
    }
   ],
   "source": [
    "locations=set(airbnbs['host_location'])\n",
    "# locations"
   ]
  },
  {
   "cell_type": "markdown",
   "id": "bcc0ddb0",
   "metadata": {},
   "source": [
    "## Hosts"
   ]
  },
  {
   "cell_type": "code",
   "execution_count": 40,
   "id": "c9c75dde",
   "metadata": {},
   "outputs": [],
   "source": [
    "airbnbs['host_name']=airbnbs['host_name'].fillna('Unknown')"
   ]
  },
  {
   "cell_type": "code",
   "execution_count": 42,
   "id": "0c61c34d",
   "metadata": {},
   "outputs": [
    {
     "data": {
      "text/plain": [
       "host_name\n",
       "Sojourn                 257\n",
       "Blueground              199\n",
       "Tina                    131\n",
       "Home Sweet City          85\n",
       "Global Luxury Suites     80\n",
       "                       ... \n",
       "Oritsetsemaye             1\n",
       "Doreen                    1\n",
       "Shajena And Gabriel       1\n",
       "Jtb                       1\n",
       "Yessenia                  1\n",
       "Name: count, Length: 1880, dtype: int64"
      ]
     },
     "execution_count": 42,
     "metadata": {},
     "output_type": "execute_result"
    }
   ],
   "source": [
    "airbnbs['host_name'].value_counts()"
   ]
  },
  {
   "cell_type": "markdown",
   "id": "73706631",
   "metadata": {},
   "source": [
    "## Neigborhoods"
   ]
  },
  {
   "cell_type": "code",
   "execution_count": 64,
   "id": "bbfde52c",
   "metadata": {},
   "outputs": [
    {
     "data": {
      "text/plain": [
       "neighbourhood\n",
       "False    6423\n",
       "Name: count, dtype: int64"
      ]
     },
     "execution_count": 64,
     "metadata": {},
     "output_type": "execute_result"
    }
   ],
   "source": [
    "airbnbs['neighbourhood'].isna().value_counts()"
   ]
  },
  {
   "cell_type": "code",
   "execution_count": null,
   "id": "b5c8812b",
   "metadata": {},
   "outputs": [],
   "source": []
  }
 ],
 "metadata": {
  "kernelspec": {
   "display_name": "base",
   "language": "python",
   "name": "python3"
  },
  "language_info": {
   "codemirror_mode": {
    "name": "ipython",
    "version": 3
   },
   "file_extension": ".py",
   "mimetype": "text/x-python",
   "name": "python",
   "nbconvert_exporter": "python",
   "pygments_lexer": "ipython3",
   "version": "3.13.5"
  }
 },
 "nbformat": 4,
 "nbformat_minor": 5
}
