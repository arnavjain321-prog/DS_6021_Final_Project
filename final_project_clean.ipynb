{
  "cells": [
    {
      "cell_type": "code",
      "execution_count": 1,
      "metadata": {
        "id": "ESsyGKmULJXB"
      },
      "outputs": [],
      "source": [
        "import pandas as pd\n",
        "import statsmodels.api as sm\n",
        "import plotly.express as px"
      ]
    },
    {
      "cell_type": "code",
      "execution_count": 3,
      "metadata": {
        "colab": {
          "base_uri": "https://localhost:8080/",
          "height": 825
        },
        "id": "A6Jx8viRLeOd",
        "outputId": "9697cdce-ba9d-4622-bf80-9413ab0575bf"
      },
      "outputs": [
        {
          "data": {
            "text/html": [
              "<div>\n",
              "<style scoped>\n",
              "    .dataframe tbody tr th:only-of-type {\n",
              "        vertical-align: middle;\n",
              "    }\n",
              "\n",
              "    .dataframe tbody tr th {\n",
              "        vertical-align: top;\n",
              "    }\n",
              "\n",
              "    .dataframe thead th {\n",
              "        text-align: right;\n",
              "    }\n",
              "</style>\n",
              "<table border=\"1\" class=\"dataframe\">\n",
              "  <thead>\n",
              "    <tr style=\"text-align: right;\">\n",
              "      <th></th>\n",
              "      <th>Unnamed: 0</th>\n",
              "      <th>track_id</th>\n",
              "      <th>artists</th>\n",
              "      <th>album_name</th>\n",
              "      <th>track_name</th>\n",
              "      <th>popularity</th>\n",
              "      <th>duration_ms</th>\n",
              "      <th>explicit</th>\n",
              "      <th>danceability</th>\n",
              "      <th>energy</th>\n",
              "      <th>...</th>\n",
              "      <th>loudness</th>\n",
              "      <th>mode</th>\n",
              "      <th>speechiness</th>\n",
              "      <th>acousticness</th>\n",
              "      <th>instrumentalness</th>\n",
              "      <th>liveness</th>\n",
              "      <th>valence</th>\n",
              "      <th>tempo</th>\n",
              "      <th>time_signature</th>\n",
              "      <th>track_genre</th>\n",
              "    </tr>\n",
              "  </thead>\n",
              "  <tbody>\n",
              "    <tr>\n",
              "      <th>0</th>\n",
              "      <td>0</td>\n",
              "      <td>5SuOikwiRyPMVoIQDJUgSV</td>\n",
              "      <td>Gen Hoshino</td>\n",
              "      <td>Comedy</td>\n",
              "      <td>Comedy</td>\n",
              "      <td>73</td>\n",
              "      <td>230666</td>\n",
              "      <td>False</td>\n",
              "      <td>0.676</td>\n",
              "      <td>0.4610</td>\n",
              "      <td>...</td>\n",
              "      <td>-6.746</td>\n",
              "      <td>0</td>\n",
              "      <td>0.1430</td>\n",
              "      <td>0.0322</td>\n",
              "      <td>0.000001</td>\n",
              "      <td>0.3580</td>\n",
              "      <td>0.715</td>\n",
              "      <td>87.917</td>\n",
              "      <td>4</td>\n",
              "      <td>acoustic</td>\n",
              "    </tr>\n",
              "    <tr>\n",
              "      <th>1</th>\n",
              "      <td>1</td>\n",
              "      <td>4qPNDBW1i3p13qLCt0Ki3A</td>\n",
              "      <td>Ben Woodward</td>\n",
              "      <td>Ghost (Acoustic)</td>\n",
              "      <td>Ghost - Acoustic</td>\n",
              "      <td>55</td>\n",
              "      <td>149610</td>\n",
              "      <td>False</td>\n",
              "      <td>0.420</td>\n",
              "      <td>0.1660</td>\n",
              "      <td>...</td>\n",
              "      <td>-17.235</td>\n",
              "      <td>1</td>\n",
              "      <td>0.0763</td>\n",
              "      <td>0.9240</td>\n",
              "      <td>0.000006</td>\n",
              "      <td>0.1010</td>\n",
              "      <td>0.267</td>\n",
              "      <td>77.489</td>\n",
              "      <td>4</td>\n",
              "      <td>acoustic</td>\n",
              "    </tr>\n",
              "    <tr>\n",
              "      <th>2</th>\n",
              "      <td>2</td>\n",
              "      <td>1iJBSr7s7jYXzM8EGcbK5b</td>\n",
              "      <td>Ingrid Michaelson;ZAYN</td>\n",
              "      <td>To Begin Again</td>\n",
              "      <td>To Begin Again</td>\n",
              "      <td>57</td>\n",
              "      <td>210826</td>\n",
              "      <td>False</td>\n",
              "      <td>0.438</td>\n",
              "      <td>0.3590</td>\n",
              "      <td>...</td>\n",
              "      <td>-9.734</td>\n",
              "      <td>1</td>\n",
              "      <td>0.0557</td>\n",
              "      <td>0.2100</td>\n",
              "      <td>0.000000</td>\n",
              "      <td>0.1170</td>\n",
              "      <td>0.120</td>\n",
              "      <td>76.332</td>\n",
              "      <td>4</td>\n",
              "      <td>acoustic</td>\n",
              "    </tr>\n",
              "    <tr>\n",
              "      <th>3</th>\n",
              "      <td>3</td>\n",
              "      <td>6lfxq3CG4xtTiEg7opyCyx</td>\n",
              "      <td>Kina Grannis</td>\n",
              "      <td>Crazy Rich Asians (Original Motion Picture Sou...</td>\n",
              "      <td>Can't Help Falling In Love</td>\n",
              "      <td>71</td>\n",
              "      <td>201933</td>\n",
              "      <td>False</td>\n",
              "      <td>0.266</td>\n",
              "      <td>0.0596</td>\n",
              "      <td>...</td>\n",
              "      <td>-18.515</td>\n",
              "      <td>1</td>\n",
              "      <td>0.0363</td>\n",
              "      <td>0.9050</td>\n",
              "      <td>0.000071</td>\n",
              "      <td>0.1320</td>\n",
              "      <td>0.143</td>\n",
              "      <td>181.740</td>\n",
              "      <td>3</td>\n",
              "      <td>acoustic</td>\n",
              "    </tr>\n",
              "    <tr>\n",
              "      <th>4</th>\n",
              "      <td>4</td>\n",
              "      <td>5vjLSffimiIP26QG5WcN2K</td>\n",
              "      <td>Chord Overstreet</td>\n",
              "      <td>Hold On</td>\n",
              "      <td>Hold On</td>\n",
              "      <td>82</td>\n",
              "      <td>198853</td>\n",
              "      <td>False</td>\n",
              "      <td>0.618</td>\n",
              "      <td>0.4430</td>\n",
              "      <td>...</td>\n",
              "      <td>-9.681</td>\n",
              "      <td>1</td>\n",
              "      <td>0.0526</td>\n",
              "      <td>0.4690</td>\n",
              "      <td>0.000000</td>\n",
              "      <td>0.0829</td>\n",
              "      <td>0.167</td>\n",
              "      <td>119.949</td>\n",
              "      <td>4</td>\n",
              "      <td>acoustic</td>\n",
              "    </tr>\n",
              "  </tbody>\n",
              "</table>\n",
              "<p>5 rows × 21 columns</p>\n",
              "</div>"
            ],
            "text/plain": [
              "   Unnamed: 0                track_id                 artists  \\\n",
              "0           0  5SuOikwiRyPMVoIQDJUgSV             Gen Hoshino   \n",
              "1           1  4qPNDBW1i3p13qLCt0Ki3A            Ben Woodward   \n",
              "2           2  1iJBSr7s7jYXzM8EGcbK5b  Ingrid Michaelson;ZAYN   \n",
              "3           3  6lfxq3CG4xtTiEg7opyCyx            Kina Grannis   \n",
              "4           4  5vjLSffimiIP26QG5WcN2K        Chord Overstreet   \n",
              "\n",
              "                                          album_name  \\\n",
              "0                                             Comedy   \n",
              "1                                   Ghost (Acoustic)   \n",
              "2                                     To Begin Again   \n",
              "3  Crazy Rich Asians (Original Motion Picture Sou...   \n",
              "4                                            Hold On   \n",
              "\n",
              "                   track_name  popularity  duration_ms  explicit  \\\n",
              "0                      Comedy          73       230666     False   \n",
              "1            Ghost - Acoustic          55       149610     False   \n",
              "2              To Begin Again          57       210826     False   \n",
              "3  Can't Help Falling In Love          71       201933     False   \n",
              "4                     Hold On          82       198853     False   \n",
              "\n",
              "   danceability  energy  ...  loudness  mode  speechiness  acousticness  \\\n",
              "0         0.676  0.4610  ...    -6.746     0       0.1430        0.0322   \n",
              "1         0.420  0.1660  ...   -17.235     1       0.0763        0.9240   \n",
              "2         0.438  0.3590  ...    -9.734     1       0.0557        0.2100   \n",
              "3         0.266  0.0596  ...   -18.515     1       0.0363        0.9050   \n",
              "4         0.618  0.4430  ...    -9.681     1       0.0526        0.4690   \n",
              "\n",
              "   instrumentalness  liveness  valence    tempo  time_signature  track_genre  \n",
              "0          0.000001    0.3580    0.715   87.917               4     acoustic  \n",
              "1          0.000006    0.1010    0.267   77.489               4     acoustic  \n",
              "2          0.000000    0.1170    0.120   76.332               4     acoustic  \n",
              "3          0.000071    0.1320    0.143  181.740               3     acoustic  \n",
              "4          0.000000    0.0829    0.167  119.949               4     acoustic  \n",
              "\n",
              "[5 rows x 21 columns]"
            ]
          },
          "execution_count": 3,
          "metadata": {},
          "output_type": "execute_result"
        }
      ],
      "source": [
        "data=pd.read_csv(\"spotify_dataset.csv\", encoding=\"latin1\")\n",
        "data.head()"
      ]
    },
    {
      "cell_type": "code",
      "execution_count": 4,
      "metadata": {},
      "outputs": [],
      "source": [
        "data2=data[[\"price\",\"min_nights\", \"max_nights\",\"accommodates\",\"bathrooms\",\"bedrooms\",\"number_of_reviews\"]]"
      ]
    },
    {
      "cell_type": "code",
      "execution_count": 5,
      "metadata": {},
      "outputs": [
        {
          "data": {
            "text/html": [
              "<div>\n",
              "<style scoped>\n",
              "    .dataframe tbody tr th:only-of-type {\n",
              "        vertical-align: middle;\n",
              "    }\n",
              "\n",
              "    .dataframe tbody tr th {\n",
              "        vertical-align: top;\n",
              "    }\n",
              "\n",
              "    .dataframe thead th {\n",
              "        text-align: right;\n",
              "    }\n",
              "</style>\n",
              "<table border=\"1\" class=\"dataframe\">\n",
              "  <thead>\n",
              "    <tr style=\"text-align: right;\">\n",
              "      <th></th>\n",
              "      <th>price</th>\n",
              "      <th>min_nights</th>\n",
              "      <th>max_nights</th>\n",
              "      <th>accommodates</th>\n",
              "      <th>bathrooms</th>\n",
              "      <th>bedrooms</th>\n",
              "      <th>number_of_reviews</th>\n",
              "    </tr>\n",
              "  </thead>\n",
              "  <tbody>\n",
              "    <tr>\n",
              "      <th>price</th>\n",
              "      <td>1.000000</td>\n",
              "      <td>-0.031484</td>\n",
              "      <td>0.106923</td>\n",
              "      <td>0.095709</td>\n",
              "      <td>0.115656</td>\n",
              "      <td>0.033346</td>\n",
              "      <td>-0.037813</td>\n",
              "    </tr>\n",
              "    <tr>\n",
              "      <th>min_nights</th>\n",
              "      <td>-0.031484</td>\n",
              "      <td>1.000000</td>\n",
              "      <td>0.127708</td>\n",
              "      <td>-0.138587</td>\n",
              "      <td>-0.070141</td>\n",
              "      <td>-0.033512</td>\n",
              "      <td>-0.162186</td>\n",
              "    </tr>\n",
              "    <tr>\n",
              "      <th>max_nights</th>\n",
              "      <td>0.106923</td>\n",
              "      <td>0.127708</td>\n",
              "      <td>1.000000</td>\n",
              "      <td>-0.015595</td>\n",
              "      <td>-0.035653</td>\n",
              "      <td>-0.030730</td>\n",
              "      <td>-0.014621</td>\n",
              "    </tr>\n",
              "    <tr>\n",
              "      <th>accommodates</th>\n",
              "      <td>0.095709</td>\n",
              "      <td>-0.138587</td>\n",
              "      <td>-0.015595</td>\n",
              "      <td>1.000000</td>\n",
              "      <td>0.253598</td>\n",
              "      <td>0.736404</td>\n",
              "      <td>0.012089</td>\n",
              "    </tr>\n",
              "    <tr>\n",
              "      <th>bathrooms</th>\n",
              "      <td>0.115656</td>\n",
              "      <td>-0.070141</td>\n",
              "      <td>-0.035653</td>\n",
              "      <td>0.253598</td>\n",
              "      <td>1.000000</td>\n",
              "      <td>0.227840</td>\n",
              "      <td>0.053464</td>\n",
              "    </tr>\n",
              "    <tr>\n",
              "      <th>bedrooms</th>\n",
              "      <td>0.033346</td>\n",
              "      <td>-0.033512</td>\n",
              "      <td>-0.030730</td>\n",
              "      <td>0.736404</td>\n",
              "      <td>0.227840</td>\n",
              "      <td>1.000000</td>\n",
              "      <td>-0.109707</td>\n",
              "    </tr>\n",
              "    <tr>\n",
              "      <th>number_of_reviews</th>\n",
              "      <td>-0.037813</td>\n",
              "      <td>-0.162186</td>\n",
              "      <td>-0.014621</td>\n",
              "      <td>0.012089</td>\n",
              "      <td>0.053464</td>\n",
              "      <td>-0.109707</td>\n",
              "      <td>1.000000</td>\n",
              "    </tr>\n",
              "  </tbody>\n",
              "</table>\n",
              "</div>"
            ],
            "text/plain": [
              "                      price  min_nights  max_nights  accommodates  bathrooms  \\\n",
              "price              1.000000   -0.031484    0.106923      0.095709   0.115656   \n",
              "min_nights        -0.031484    1.000000    0.127708     -0.138587  -0.070141   \n",
              "max_nights         0.106923    0.127708    1.000000     -0.015595  -0.035653   \n",
              "accommodates       0.095709   -0.138587   -0.015595      1.000000   0.253598   \n",
              "bathrooms          0.115656   -0.070141   -0.035653      0.253598   1.000000   \n",
              "bedrooms           0.033346   -0.033512   -0.030730      0.736404   0.227840   \n",
              "number_of_reviews -0.037813   -0.162186   -0.014621      0.012089   0.053464   \n",
              "\n",
              "                   bedrooms  number_of_reviews  \n",
              "price              0.033346          -0.037813  \n",
              "min_nights        -0.033512          -0.162186  \n",
              "max_nights        -0.030730          -0.014621  \n",
              "accommodates       0.736404           0.012089  \n",
              "bathrooms          0.227840           0.053464  \n",
              "bedrooms           1.000000          -0.109707  \n",
              "number_of_reviews -0.109707           1.000000  "
            ]
          },
          "execution_count": 5,
          "metadata": {},
          "output_type": "execute_result"
        }
      ],
      "source": [
        "corr=data2.corr()\n",
        "corr"
      ]
    },
    {
      "cell_type": "code",
      "execution_count": 6,
      "metadata": {},
      "outputs": [
        {
          "data": {
            "application/vnd.plotly.v1+json": {
              "config": {
                "plotlyServerURL": "https://plot.ly"
              },
              "data": [
                {
                  "coloraxis": "coloraxis",
                  "hovertemplate": "x: %{x}<br>y: %{y}<br>color: %{z}<extra></extra>",
                  "name": "0",
                  "texttemplate": "%{z:.2f}",
                  "type": "heatmap",
                  "x": [
                    "price",
                    "min_nights",
                    "max_nights",
                    "accommodates",
                    "bathrooms",
                    "bedrooms",
                    "number_of_reviews"
                  ],
                  "xaxis": "x",
                  "y": [
                    "price",
                    "min_nights",
                    "max_nights",
                    "accommodates",
                    "bathrooms",
                    "bedrooms",
                    "number_of_reviews"
                  ],
                  "yaxis": "y",
                  "z": {
                    "bdata": "AAAAAAAA8D+oyF0otx6gv8c5YPhJX7s/FCaW+V+AuD+cSlsGnZu9PxJfCia8EqE/MKYSPkVco7+oyF0otx6gvwAAAAAAAPA/0+GKoblYwD8LrdB5Nb3Bv/zXD86/9LG/gUfX/YIoob9NKJvQg8LEv8c5YPhJX7s/0+GKoblYwD8AAAAAAADwP+Uhis0U8I+/Vnob5RlBor/S8fhXwnefv3Y3blG98Y2/FCaW+V+AuD8LrdB5Nb3Bv+Uhis0U8I+/AAAAAAAA8D/0VNFm8jrQP6vE1kqekOc/BwlraeDBiD+cSlsGnZu9P/zXD86/9LG/Vnob5RlBor/0VNFm8jrQPwAAAAAAAPA/fEjV0topzT+WeYb3sF+rPxJfCia8EqE/gUfX/YIoob/S8fhXwnefv6vE1kqekOc/fEjV0topzT8AAAAAAADwP7jhJKnAFby/MKYSPkVco79NKJvQg8LEv3Y3blG98Y2/BwlraeDBiD+WeYb3sF+rP7jhJKnAFby/AAAAAAAA8D8=",
                    "dtype": "f8",
                    "shape": "7, 7"
                  }
                }
              ],
              "layout": {
                "coloraxis": {
                  "colorscale": [
                    [
                      0,
                      "rgb(0,0,255)"
                    ],
                    [
                      0.1,
                      "rgb(51,153,255)"
                    ],
                    [
                      0.2,
                      "rgb(102,204,255)"
                    ],
                    [
                      0.3,
                      "rgb(153,204,255)"
                    ],
                    [
                      0.4,
                      "rgb(204,204,255)"
                    ],
                    [
                      0.5,
                      "rgb(255,255,255)"
                    ],
                    [
                      0.6,
                      "rgb(255,204,255)"
                    ],
                    [
                      0.7,
                      "rgb(255,153,255)"
                    ],
                    [
                      0.8,
                      "rgb(255,102,204)"
                    ],
                    [
                      0.9,
                      "rgb(255,102,102)"
                    ],
                    [
                      1,
                      "rgb(255,0,0)"
                    ]
                  ]
                },
                "margin": {
                  "t": 60
                },
                "template": {
                  "data": {
                    "bar": [
                      {
                        "error_x": {
                          "color": "#2a3f5f"
                        },
                        "error_y": {
                          "color": "#2a3f5f"
                        },
                        "marker": {
                          "line": {
                            "color": "#E5ECF6",
                            "width": 0.5
                          },
                          "pattern": {
                            "fillmode": "overlay",
                            "size": 10,
                            "solidity": 0.2
                          }
                        },
                        "type": "bar"
                      }
                    ],
                    "barpolar": [
                      {
                        "marker": {
                          "line": {
                            "color": "#E5ECF6",
                            "width": 0.5
                          },
                          "pattern": {
                            "fillmode": "overlay",
                            "size": 10,
                            "solidity": 0.2
                          }
                        },
                        "type": "barpolar"
                      }
                    ],
                    "carpet": [
                      {
                        "aaxis": {
                          "endlinecolor": "#2a3f5f",
                          "gridcolor": "white",
                          "linecolor": "white",
                          "minorgridcolor": "white",
                          "startlinecolor": "#2a3f5f"
                        },
                        "baxis": {
                          "endlinecolor": "#2a3f5f",
                          "gridcolor": "white",
                          "linecolor": "white",
                          "minorgridcolor": "white",
                          "startlinecolor": "#2a3f5f"
                        },
                        "type": "carpet"
                      }
                    ],
                    "choropleth": [
                      {
                        "colorbar": {
                          "outlinewidth": 0,
                          "ticks": ""
                        },
                        "type": "choropleth"
                      }
                    ],
                    "contour": [
                      {
                        "colorbar": {
                          "outlinewidth": 0,
                          "ticks": ""
                        },
                        "colorscale": [
                          [
                            0,
                            "#0d0887"
                          ],
                          [
                            0.1111111111111111,
                            "#46039f"
                          ],
                          [
                            0.2222222222222222,
                            "#7201a8"
                          ],
                          [
                            0.3333333333333333,
                            "#9c179e"
                          ],
                          [
                            0.4444444444444444,
                            "#bd3786"
                          ],
                          [
                            0.5555555555555556,
                            "#d8576b"
                          ],
                          [
                            0.6666666666666666,
                            "#ed7953"
                          ],
                          [
                            0.7777777777777778,
                            "#fb9f3a"
                          ],
                          [
                            0.8888888888888888,
                            "#fdca26"
                          ],
                          [
                            1,
                            "#f0f921"
                          ]
                        ],
                        "type": "contour"
                      }
                    ],
                    "contourcarpet": [
                      {
                        "colorbar": {
                          "outlinewidth": 0,
                          "ticks": ""
                        },
                        "type": "contourcarpet"
                      }
                    ],
                    "heatmap": [
                      {
                        "colorbar": {
                          "outlinewidth": 0,
                          "ticks": ""
                        },
                        "colorscale": [
                          [
                            0,
                            "#0d0887"
                          ],
                          [
                            0.1111111111111111,
                            "#46039f"
                          ],
                          [
                            0.2222222222222222,
                            "#7201a8"
                          ],
                          [
                            0.3333333333333333,
                            "#9c179e"
                          ],
                          [
                            0.4444444444444444,
                            "#bd3786"
                          ],
                          [
                            0.5555555555555556,
                            "#d8576b"
                          ],
                          [
                            0.6666666666666666,
                            "#ed7953"
                          ],
                          [
                            0.7777777777777778,
                            "#fb9f3a"
                          ],
                          [
                            0.8888888888888888,
                            "#fdca26"
                          ],
                          [
                            1,
                            "#f0f921"
                          ]
                        ],
                        "type": "heatmap"
                      }
                    ],
                    "histogram": [
                      {
                        "marker": {
                          "pattern": {
                            "fillmode": "overlay",
                            "size": 10,
                            "solidity": 0.2
                          }
                        },
                        "type": "histogram"
                      }
                    ],
                    "histogram2d": [
                      {
                        "colorbar": {
                          "outlinewidth": 0,
                          "ticks": ""
                        },
                        "colorscale": [
                          [
                            0,
                            "#0d0887"
                          ],
                          [
                            0.1111111111111111,
                            "#46039f"
                          ],
                          [
                            0.2222222222222222,
                            "#7201a8"
                          ],
                          [
                            0.3333333333333333,
                            "#9c179e"
                          ],
                          [
                            0.4444444444444444,
                            "#bd3786"
                          ],
                          [
                            0.5555555555555556,
                            "#d8576b"
                          ],
                          [
                            0.6666666666666666,
                            "#ed7953"
                          ],
                          [
                            0.7777777777777778,
                            "#fb9f3a"
                          ],
                          [
                            0.8888888888888888,
                            "#fdca26"
                          ],
                          [
                            1,
                            "#f0f921"
                          ]
                        ],
                        "type": "histogram2d"
                      }
                    ],
                    "histogram2dcontour": [
                      {
                        "colorbar": {
                          "outlinewidth": 0,
                          "ticks": ""
                        },
                        "colorscale": [
                          [
                            0,
                            "#0d0887"
                          ],
                          [
                            0.1111111111111111,
                            "#46039f"
                          ],
                          [
                            0.2222222222222222,
                            "#7201a8"
                          ],
                          [
                            0.3333333333333333,
                            "#9c179e"
                          ],
                          [
                            0.4444444444444444,
                            "#bd3786"
                          ],
                          [
                            0.5555555555555556,
                            "#d8576b"
                          ],
                          [
                            0.6666666666666666,
                            "#ed7953"
                          ],
                          [
                            0.7777777777777778,
                            "#fb9f3a"
                          ],
                          [
                            0.8888888888888888,
                            "#fdca26"
                          ],
                          [
                            1,
                            "#f0f921"
                          ]
                        ],
                        "type": "histogram2dcontour"
                      }
                    ],
                    "mesh3d": [
                      {
                        "colorbar": {
                          "outlinewidth": 0,
                          "ticks": ""
                        },
                        "type": "mesh3d"
                      }
                    ],
                    "parcoords": [
                      {
                        "line": {
                          "colorbar": {
                            "outlinewidth": 0,
                            "ticks": ""
                          }
                        },
                        "type": "parcoords"
                      }
                    ],
                    "pie": [
                      {
                        "automargin": true,
                        "type": "pie"
                      }
                    ],
                    "scatter": [
                      {
                        "fillpattern": {
                          "fillmode": "overlay",
                          "size": 10,
                          "solidity": 0.2
                        },
                        "type": "scatter"
                      }
                    ],
                    "scatter3d": [
                      {
                        "line": {
                          "colorbar": {
                            "outlinewidth": 0,
                            "ticks": ""
                          }
                        },
                        "marker": {
                          "colorbar": {
                            "outlinewidth": 0,
                            "ticks": ""
                          }
                        },
                        "type": "scatter3d"
                      }
                    ],
                    "scattercarpet": [
                      {
                        "marker": {
                          "colorbar": {
                            "outlinewidth": 0,
                            "ticks": ""
                          }
                        },
                        "type": "scattercarpet"
                      }
                    ],
                    "scattergeo": [
                      {
                        "marker": {
                          "colorbar": {
                            "outlinewidth": 0,
                            "ticks": ""
                          }
                        },
                        "type": "scattergeo"
                      }
                    ],
                    "scattergl": [
                      {
                        "marker": {
                          "colorbar": {
                            "outlinewidth": 0,
                            "ticks": ""
                          }
                        },
                        "type": "scattergl"
                      }
                    ],
                    "scattermap": [
                      {
                        "marker": {
                          "colorbar": {
                            "outlinewidth": 0,
                            "ticks": ""
                          }
                        },
                        "type": "scattermap"
                      }
                    ],
                    "scattermapbox": [
                      {
                        "marker": {
                          "colorbar": {
                            "outlinewidth": 0,
                            "ticks": ""
                          }
                        },
                        "type": "scattermapbox"
                      }
                    ],
                    "scatterpolar": [
                      {
                        "marker": {
                          "colorbar": {
                            "outlinewidth": 0,
                            "ticks": ""
                          }
                        },
                        "type": "scatterpolar"
                      }
                    ],
                    "scatterpolargl": [
                      {
                        "marker": {
                          "colorbar": {
                            "outlinewidth": 0,
                            "ticks": ""
                          }
                        },
                        "type": "scatterpolargl"
                      }
                    ],
                    "scatterternary": [
                      {
                        "marker": {
                          "colorbar": {
                            "outlinewidth": 0,
                            "ticks": ""
                          }
                        },
                        "type": "scatterternary"
                      }
                    ],
                    "surface": [
                      {
                        "colorbar": {
                          "outlinewidth": 0,
                          "ticks": ""
                        },
                        "colorscale": [
                          [
                            0,
                            "#0d0887"
                          ],
                          [
                            0.1111111111111111,
                            "#46039f"
                          ],
                          [
                            0.2222222222222222,
                            "#7201a8"
                          ],
                          [
                            0.3333333333333333,
                            "#9c179e"
                          ],
                          [
                            0.4444444444444444,
                            "#bd3786"
                          ],
                          [
                            0.5555555555555556,
                            "#d8576b"
                          ],
                          [
                            0.6666666666666666,
                            "#ed7953"
                          ],
                          [
                            0.7777777777777778,
                            "#fb9f3a"
                          ],
                          [
                            0.8888888888888888,
                            "#fdca26"
                          ],
                          [
                            1,
                            "#f0f921"
                          ]
                        ],
                        "type": "surface"
                      }
                    ],
                    "table": [
                      {
                        "cells": {
                          "fill": {
                            "color": "#EBF0F8"
                          },
                          "line": {
                            "color": "white"
                          }
                        },
                        "header": {
                          "fill": {
                            "color": "#C8D4E3"
                          },
                          "line": {
                            "color": "white"
                          }
                        },
                        "type": "table"
                      }
                    ]
                  },
                  "layout": {
                    "annotationdefaults": {
                      "arrowcolor": "#2a3f5f",
                      "arrowhead": 0,
                      "arrowwidth": 1
                    },
                    "autotypenumbers": "strict",
                    "coloraxis": {
                      "colorbar": {
                        "outlinewidth": 0,
                        "ticks": ""
                      }
                    },
                    "colorscale": {
                      "diverging": [
                        [
                          0,
                          "#8e0152"
                        ],
                        [
                          0.1,
                          "#c51b7d"
                        ],
                        [
                          0.2,
                          "#de77ae"
                        ],
                        [
                          0.3,
                          "#f1b6da"
                        ],
                        [
                          0.4,
                          "#fde0ef"
                        ],
                        [
                          0.5,
                          "#f7f7f7"
                        ],
                        [
                          0.6,
                          "#e6f5d0"
                        ],
                        [
                          0.7,
                          "#b8e186"
                        ],
                        [
                          0.8,
                          "#7fbc41"
                        ],
                        [
                          0.9,
                          "#4d9221"
                        ],
                        [
                          1,
                          "#276419"
                        ]
                      ],
                      "sequential": [
                        [
                          0,
                          "#0d0887"
                        ],
                        [
                          0.1111111111111111,
                          "#46039f"
                        ],
                        [
                          0.2222222222222222,
                          "#7201a8"
                        ],
                        [
                          0.3333333333333333,
                          "#9c179e"
                        ],
                        [
                          0.4444444444444444,
                          "#bd3786"
                        ],
                        [
                          0.5555555555555556,
                          "#d8576b"
                        ],
                        [
                          0.6666666666666666,
                          "#ed7953"
                        ],
                        [
                          0.7777777777777778,
                          "#fb9f3a"
                        ],
                        [
                          0.8888888888888888,
                          "#fdca26"
                        ],
                        [
                          1,
                          "#f0f921"
                        ]
                      ],
                      "sequentialminus": [
                        [
                          0,
                          "#0d0887"
                        ],
                        [
                          0.1111111111111111,
                          "#46039f"
                        ],
                        [
                          0.2222222222222222,
                          "#7201a8"
                        ],
                        [
                          0.3333333333333333,
                          "#9c179e"
                        ],
                        [
                          0.4444444444444444,
                          "#bd3786"
                        ],
                        [
                          0.5555555555555556,
                          "#d8576b"
                        ],
                        [
                          0.6666666666666666,
                          "#ed7953"
                        ],
                        [
                          0.7777777777777778,
                          "#fb9f3a"
                        ],
                        [
                          0.8888888888888888,
                          "#fdca26"
                        ],
                        [
                          1,
                          "#f0f921"
                        ]
                      ]
                    },
                    "colorway": [
                      "#636efa",
                      "#EF553B",
                      "#00cc96",
                      "#ab63fa",
                      "#FFA15A",
                      "#19d3f3",
                      "#FF6692",
                      "#B6E880",
                      "#FF97FF",
                      "#FECB52"
                    ],
                    "font": {
                      "color": "#2a3f5f"
                    },
                    "geo": {
                      "bgcolor": "white",
                      "lakecolor": "white",
                      "landcolor": "#E5ECF6",
                      "showlakes": true,
                      "showland": true,
                      "subunitcolor": "white"
                    },
                    "hoverlabel": {
                      "align": "left"
                    },
                    "hovermode": "closest",
                    "mapbox": {
                      "style": "light"
                    },
                    "paper_bgcolor": "white",
                    "plot_bgcolor": "#E5ECF6",
                    "polar": {
                      "angularaxis": {
                        "gridcolor": "white",
                        "linecolor": "white",
                        "ticks": ""
                      },
                      "bgcolor": "#E5ECF6",
                      "radialaxis": {
                        "gridcolor": "white",
                        "linecolor": "white",
                        "ticks": ""
                      }
                    },
                    "scene": {
                      "xaxis": {
                        "backgroundcolor": "#E5ECF6",
                        "gridcolor": "white",
                        "gridwidth": 2,
                        "linecolor": "white",
                        "showbackground": true,
                        "ticks": "",
                        "zerolinecolor": "white"
                      },
                      "yaxis": {
                        "backgroundcolor": "#E5ECF6",
                        "gridcolor": "white",
                        "gridwidth": 2,
                        "linecolor": "white",
                        "showbackground": true,
                        "ticks": "",
                        "zerolinecolor": "white"
                      },
                      "zaxis": {
                        "backgroundcolor": "#E5ECF6",
                        "gridcolor": "white",
                        "gridwidth": 2,
                        "linecolor": "white",
                        "showbackground": true,
                        "ticks": "",
                        "zerolinecolor": "white"
                      }
                    },
                    "shapedefaults": {
                      "line": {
                        "color": "#2a3f5f"
                      }
                    },
                    "ternary": {
                      "aaxis": {
                        "gridcolor": "white",
                        "linecolor": "white",
                        "ticks": ""
                      },
                      "baxis": {
                        "gridcolor": "white",
                        "linecolor": "white",
                        "ticks": ""
                      },
                      "bgcolor": "#E5ECF6",
                      "caxis": {
                        "gridcolor": "white",
                        "linecolor": "white",
                        "ticks": ""
                      }
                    },
                    "title": {
                      "x": 0.05
                    },
                    "xaxis": {
                      "automargin": true,
                      "gridcolor": "white",
                      "linecolor": "white",
                      "ticks": "",
                      "title": {
                        "standoff": 15
                      },
                      "zerolinecolor": "white",
                      "zerolinewidth": 2
                    },
                    "yaxis": {
                      "automargin": true,
                      "gridcolor": "white",
                      "linecolor": "white",
                      "ticks": "",
                      "title": {
                        "standoff": 15
                      },
                      "zerolinecolor": "white",
                      "zerolinewidth": 2
                    }
                  }
                },
                "xaxis": {
                  "anchor": "y",
                  "constrain": "domain",
                  "domain": [
                    0,
                    1
                  ],
                  "scaleanchor": "y"
                },
                "yaxis": {
                  "anchor": "x",
                  "autorange": "reversed",
                  "constrain": "domain",
                  "domain": [
                    0,
                    1
                  ]
                }
              }
            }
          },
          "metadata": {},
          "output_type": "display_data"
        }
      ],
      "source": [
        "px.imshow(corr, text_auto=\".2f\", color_continuous_scale=\"Picnic\")"
      ]
    },
    {
      "cell_type": "code",
      "execution_count": 9,
      "metadata": {},
      "outputs": [
        {
          "name": "stdout",
          "output_type": "stream",
          "text": [
            "                            OLS Regression Results                            \n",
            "==============================================================================\n",
            "Dep. Variable:                  price   R-squared:                       0.038\n",
            "Model:                            OLS   Adj. R-squared:                  0.037\n",
            "Method:                 Least Squares   F-statistic:                     41.97\n",
            "Date:                Thu, 23 Oct 2025   Prob (F-statistic):           1.73e-50\n",
            "Time:                        23:51:43   Log-Likelihood:                -59788.\n",
            "No. Observations:                6423   AIC:                         1.196e+05\n",
            "Df Residuals:                    6416   BIC:                         1.196e+05\n",
            "Df Model:                           6                                         \n",
            "Covariance Type:            nonrobust                                         \n",
            "=====================================================================================\n",
            "                        coef    std err          t      P>|t|      [0.025      0.975]\n",
            "-------------------------------------------------------------------------------------\n",
            "const              -479.6514     84.441     -5.680      0.000    -645.184    -314.119\n",
            "min_nights           -3.1058      1.223     -2.539      0.011      -5.504      -0.708\n",
            "max_nights            0.7587      0.083      9.155      0.000       0.596       0.921\n",
            "accommodates        154.9605     20.971      7.389      0.000     113.849     196.072\n",
            "bathrooms           393.8911     46.516      8.468      0.000     302.704     485.078\n",
            "bedrooms           -238.5500     45.695     -5.221      0.000    -328.127    -148.973\n",
            "number_of_reviews    -1.4481      0.307     -4.715      0.000      -2.050      -0.846\n",
            "==============================================================================\n",
            "Omnibus:                    12308.279   Durbin-Watson:                   0.518\n",
            "Prob(Omnibus):                  0.000   Jarque-Bera (JB):         15499720.533\n",
            "Skew:                          15.160   Prob(JB):                         0.00\n",
            "Kurtosis:                     241.739   Cond. No.                     1.56e+03\n",
            "==============================================================================\n",
            "\n",
            "Notes:\n",
            "[1] Standard Errors assume that the covariance matrix of the errors is correctly specified.\n",
            "[2] The condition number is large, 1.56e+03. This might indicate that there are\n",
            "strong multicollinearity or other numerical problems.\n"
          ]
        }
      ],
      "source": [
        "X=sm.add_constant(data2.drop(columns=\"price\"))\n",
        "y=data2[\"price\"]\n",
        "model1=sm.OLS(y,X).fit()\n",
        "print(model1.summary())"
      ]
    },
    {
      "cell_type": "code",
      "execution_count": 11,
      "metadata": {},
      "outputs": [
        {
          "name": "stdout",
          "output_type": "stream",
          "text": [
            "            variable      VIFs\n",
            "0         min_nights  1.215759\n",
            "1         max_nights  1.811039\n",
            "2       accommodates  7.414788\n",
            "3          bathrooms  2.440823\n",
            "4           bedrooms  6.561559\n",
            "5  number_of_reviews  1.340249\n"
          ]
        }
      ],
      "source": [
        "from statsmodels.stats.outliers_influence import variance_inflation_factor\n",
        "X=data[[\"min_nights\", \"max_nights\",\"accommodates\",\"bathrooms\",\"bedrooms\",\"number_of_reviews\"]]\n",
        "vifs=pd.DataFrame()\n",
        "vifs[\"variable\"]=X.columns\n",
        "vifs[\"VIFs\"]=[variance_inflation_factor(X.values, i)\n",
        "for i in range(X.shape[1])]\n",
        "print(vifs)"
      ]
    },
    {
      "cell_type": "code",
      "execution_count": 12,
      "metadata": {},
      "outputs": [
        {
          "name": "stdout",
          "output_type": "stream",
          "text": [
            "                            OLS Regression Results                            \n",
            "==============================================================================\n",
            "Dep. Variable:                  price   R-squared:                       0.037\n",
            "Model:                            OLS   Adj. R-squared:                  0.036\n",
            "Method:                 Least Squares   F-statistic:                     49.03\n",
            "Date:                Thu, 23 Oct 2025   Prob (F-statistic):           5.57e-50\n",
            "Time:                        23:56:32   Log-Likelihood:                -59791.\n",
            "No. Observations:                6423   AIC:                         1.196e+05\n",
            "Df Residuals:                    6417   BIC:                         1.196e+05\n",
            "Df Model:                           5                                         \n",
            "Covariance Type:            nonrobust                                         \n",
            "=====================================================================================\n",
            "                        coef    std err          t      P>|t|      [0.025      0.975]\n",
            "-------------------------------------------------------------------------------------\n",
            "const              -534.2062     81.696     -6.539      0.000    -694.357    -374.055\n",
            "max_nights            0.7317      0.082      8.900      0.000       0.571       0.893\n",
            "accommodates        162.7942     20.752      7.845      0.000     122.113     203.475\n",
            "bathrooms           397.5134     46.514      8.546      0.000     306.330     488.696\n",
            "bedrooms           -248.1470     45.557     -5.447      0.000    -337.455    -158.839\n",
            "number_of_reviews    -1.3360      0.304     -4.394      0.000      -1.932      -0.740\n",
            "==============================================================================\n",
            "Omnibus:                    12315.982   Durbin-Watson:                   0.520\n",
            "Prob(Omnibus):                  0.000   Jarque-Bera (JB):         15556267.359\n",
            "Skew:                          15.180   Prob(JB):                         0.00\n",
            "Kurtosis:                     242.176   Cond. No.                     1.51e+03\n",
            "==============================================================================\n",
            "\n",
            "Notes:\n",
            "[1] Standard Errors assume that the covariance matrix of the errors is correctly specified.\n",
            "[2] The condition number is large, 1.51e+03. This might indicate that there are\n",
            "strong multicollinearity or other numerical problems.\n"
          ]
        }
      ],
      "source": [
        "X=sm.add_constant(data2.drop(columns=[\"price\",\"min_nights\"]))\n",
        "y=data2[\"price\"]\n",
        "model2=sm.OLS(y,X).fit()\n",
        "print(model2.summary())"
      ]
    },
    {
      "cell_type": "code",
      "execution_count": 13,
      "metadata": {},
      "outputs": [
        {
          "name": "stdout",
          "output_type": "stream",
          "text": [
            "            variable      VIFs\n",
            "0         max_nights  1.683058\n",
            "1       accommodates  7.358839\n",
            "2          bathrooms  2.431090\n",
            "3           bedrooms  6.455098\n",
            "4  number_of_reviews  1.332319\n"
          ]
        }
      ],
      "source": [
        "X=data[[\"max_nights\",\"accommodates\",\"bathrooms\",\"bedrooms\",\"number_of_reviews\"]]\n",
        "vifs=pd.DataFrame()\n",
        "vifs[\"variable\"]=X.columns\n",
        "vifs[\"VIFs\"]=[variance_inflation_factor(X.values, i)\n",
        "for i in range(X.shape[1])]\n",
        "print(vifs)"
      ]
    },
    {
      "cell_type": "code",
      "execution_count": 15,
      "metadata": {},
      "outputs": [
        {
          "name": "stdout",
          "output_type": "stream",
          "text": [
            "                            OLS Regression Results                            \n",
            "==============================================================================\n",
            "Dep. Variable:                  price   R-squared:                       0.028\n",
            "Model:                            OLS   Adj. R-squared:                  0.027\n",
            "Method:                 Least Squares   F-statistic:                     45.48\n",
            "Date:                Fri, 24 Oct 2025   Prob (F-statistic):           1.00e-37\n",
            "Time:                        00:03:17   Log-Likelihood:                -59822.\n",
            "No. Observations:                6423   AIC:                         1.197e+05\n",
            "Df Residuals:                    6418   BIC:                         1.197e+05\n",
            "Df Model:                           4                                         \n",
            "Covariance Type:            nonrobust                                         \n",
            "=====================================================================================\n",
            "                        coef    std err          t      P>|t|      [0.025      0.975]\n",
            "-------------------------------------------------------------------------------------\n",
            "const              -385.5163     79.840     -4.829      0.000    -542.030    -229.002\n",
            "max_nights            0.7424      0.083      8.988      0.000       0.580       0.904\n",
            "bathrooms           441.6823     46.389      9.521      0.000     350.744     532.621\n",
            "bedrooms             11.3586     31.471      0.361      0.718     -50.336      73.053\n",
            "number_of_reviews    -1.0275      0.303     -3.392      0.001      -1.621      -0.434\n",
            "==============================================================================\n",
            "Omnibus:                    12385.887   Durbin-Watson:                   0.504\n",
            "Prob(Omnibus):                  0.000   Jarque-Bera (JB):         16044693.027\n",
            "Skew:                          15.367   Prob(JB):                         0.00\n",
            "Kurtosis:                     245.915   Cond. No.                     1.50e+03\n",
            "==============================================================================\n",
            "\n",
            "Notes:\n",
            "[1] Standard Errors assume that the covariance matrix of the errors is correctly specified.\n",
            "[2] The condition number is large, 1.5e+03. This might indicate that there are\n",
            "strong multicollinearity or other numerical problems.\n"
          ]
        }
      ],
      "source": [
        "X=sm.add_constant(data2.drop(columns=[\"price\",\"min_nights\",\"accommodates\"]))\n",
        "y=data2[\"price\"]\n",
        "model4=sm.OLS(y,X).fit()\n",
        "print(model4.summary())"
      ]
    },
    {
      "cell_type": "code",
      "execution_count": 16,
      "metadata": {},
      "outputs": [
        {
          "name": "stdout",
          "output_type": "stream",
          "text": [
            "            variable      VIFs\n",
            "0         max_nights  1.647522\n",
            "1          bathrooms  2.311473\n",
            "2           bedrooms  2.294169\n",
            "3  number_of_reviews  1.278111\n"
          ]
        }
      ],
      "source": [
        "X=data[[\"max_nights\",\"bathrooms\",\"bedrooms\",\"number_of_reviews\"]]\n",
        "vifs=pd.DataFrame()\n",
        "vifs[\"variable\"]=X.columns\n",
        "vifs[\"VIFs\"]=[variance_inflation_factor(X.values, i)\n",
        "for i in range(X.shape[1])]\n",
        "print(vifs)"
      ]
    },
    {
      "cell_type": "code",
      "execution_count": 23,
      "metadata": {},
      "outputs": [
        {
          "name": "stdout",
          "output_type": "stream",
          "text": [
            "                            OLS Regression Results                            \n",
            "==============================================================================\n",
            "Dep. Variable:                  price   R-squared:                       0.015\n",
            "Model:                            OLS   Adj. R-squared:                  0.015\n",
            "Method:                 Least Squares   F-statistic:                     33.29\n",
            "Date:                Fri, 24 Oct 2025   Prob (F-statistic):           2.41e-21\n",
            "Time:                        00:11:57   Log-Likelihood:                -59862.\n",
            "No. Observations:                6423   AIC:                         1.197e+05\n",
            "Df Residuals:                    6419   BIC:                         1.198e+05\n",
            "Df Model:                           3                                         \n",
            "Covariance Type:            nonrobust                                         \n",
            "=====================================================================================\n",
            "                        coef    std err          t      P>|t|      [0.025      0.975]\n",
            "-------------------------------------------------------------------------------------\n",
            "const               -37.8828     70.280     -0.539      0.590    -175.656      99.890\n",
            "bathrooms           429.9789     46.658      9.215      0.000     338.513     521.445\n",
            "bedrooms              4.2783     31.656      0.135      0.892     -57.779      66.335\n",
            "number_of_reviews    -1.0704      0.305     -3.512      0.000      -1.668      -0.473\n",
            "==============================================================================\n",
            "Omnibus:                    12491.173   Durbin-Watson:                   0.488\n",
            "Prob(Omnibus):                  0.000   Jarque-Bera (JB):         16822268.366\n",
            "Skew:                          15.651   Prob(JB):                         0.00\n",
            "Kurtosis:                     251.752   Cond. No.                         296.\n",
            "==============================================================================\n",
            "\n",
            "Notes:\n",
            "[1] Standard Errors assume that the covariance matrix of the errors is correctly specified.\n"
          ]
        }
      ],
      "source": [
        "X=sm.add_constant(data2.drop(columns=[\"price\",\"min_nights\",\"accommodates\",\"max_nights\"]))\n",
        "y=data2[\"price\"]\n",
        "model5=sm.OLS(y,X).fit()\n",
        "print(model5.summary())"
      ]
    },
    {
      "cell_type": "code",
      "execution_count": 20,
      "metadata": {},
      "outputs": [
        {
          "name": "stdout",
          "output_type": "stream",
          "text": [
            "            variable      VIFs\n",
            "0          bathrooms  2.218589\n",
            "1           bedrooms  2.079914\n",
            "2  number_of_reviews  1.247329\n"
          ]
        }
      ],
      "source": [
        "X=data[[\"bathrooms\",\"bedrooms\",\"number_of_reviews\"]]\n",
        "vifs=pd.DataFrame()\n",
        "vifs[\"variable\"]=X.columns\n",
        "vifs[\"VIFs\"]=[variance_inflation_factor(X.values, i)\n",
        "for i in range(X.shape[1])]\n",
        "print(vifs)"
      ]
    },
    {
      "cell_type": "code",
      "execution_count": 26,
      "metadata": {},
      "outputs": [
        {
          "name": "stdout",
          "output_type": "stream",
          "text": [
            "                            OLS Regression Results                            \n",
            "==============================================================================\n",
            "Dep. Variable:                  price   R-squared:                       0.015\n",
            "Model:                            OLS   Adj. R-squared:                  0.015\n",
            "Method:                 Least Squares   F-statistic:                     33.29\n",
            "Date:                Fri, 24 Oct 2025   Prob (F-statistic):           2.41e-21\n",
            "Time:                        00:15:38   Log-Likelihood:                -59862.\n",
            "No. Observations:                6423   AIC:                         1.197e+05\n",
            "Df Residuals:                    6419   BIC:                         1.198e+05\n",
            "Df Model:                           3                                         \n",
            "Covariance Type:            nonrobust                                         \n",
            "=====================================================================================\n",
            "                        coef    std err          t      P>|t|      [0.025      0.975]\n",
            "-------------------------------------------------------------------------------------\n",
            "const               -37.8828     70.280     -0.539      0.590    -175.656      99.890\n",
            "bathrooms           429.9789     46.658      9.215      0.000     338.513     521.445\n",
            "bedrooms              4.2783     31.656      0.135      0.892     -57.779      66.335\n",
            "number_of_reviews    -1.0704      0.305     -3.512      0.000      -1.668      -0.473\n",
            "==============================================================================\n",
            "Omnibus:                    12491.173   Durbin-Watson:                   0.488\n",
            "Prob(Omnibus):                  0.000   Jarque-Bera (JB):         16822268.366\n",
            "Skew:                          15.651   Prob(JB):                         0.00\n",
            "Kurtosis:                     251.752   Cond. No.                         296.\n",
            "==============================================================================\n",
            "\n",
            "Notes:\n",
            "[1] Standard Errors assume that the covariance matrix of the errors is correctly specified.\n"
          ]
        }
      ],
      "source": [
        "X5=sm.add_constant(data2.drop(columns=[\"price\",\"min_nights\",\"accommodates\",\"bathrooms\"]))\n",
        "y=data2[\"price\"]\n",
        "model5=sm.OLS(y,X).fit()\n",
        "print(model5.summary())"
      ]
    },
    {
      "cell_type": "code",
      "execution_count": 27,
      "metadata": {},
      "outputs": [
        {
          "name": "stdout",
          "output_type": "stream",
          "text": [
            "255323.47875217217\n"
          ]
        }
      ],
      "source": [
        "import numpy as np\n",
        "y_pred=model5.predict(X5)\n",
        "rmse=np.sqrt(np.mean((y-y_pred)**2))\n",
        "print(rmse)"
      ]
    },
    {
      "cell_type": "code",
      "execution_count": 28,
      "metadata": {},
      "outputs": [
        {
          "name": "stderr",
          "output_type": "stream",
          "text": [
            "C:\\Users\\shawn\\AppData\\Local\\Temp\\ipykernel_21132\\24950695.py:1: SettingWithCopyWarning:\n",
            "\n",
            "\n",
            "A value is trying to be set on a copy of a slice from a DataFrame.\n",
            "Try using .loc[row_indexer,col_indexer] = value instead\n",
            "\n",
            "See the caveats in the documentation: https://pandas.pydata.org/pandas-docs/stable/user_guide/indexing.html#returning-a-view-versus-a-copy\n",
            "\n",
            "C:\\Users\\shawn\\AppData\\Local\\Temp\\ipykernel_21132\\24950695.py:2: SettingWithCopyWarning:\n",
            "\n",
            "\n",
            "A value is trying to be set on a copy of a slice from a DataFrame.\n",
            "Try using .loc[row_indexer,col_indexer] = value instead\n",
            "\n",
            "See the caveats in the documentation: https://pandas.pydata.org/pandas-docs/stable/user_guide/indexing.html#returning-a-view-versus-a-copy\n",
            "\n"
          ]
        },
        {
          "data": {
            "text/html": [
              "<div>\n",
              "<style scoped>\n",
              "    .dataframe tbody tr th:only-of-type {\n",
              "        vertical-align: middle;\n",
              "    }\n",
              "\n",
              "    .dataframe tbody tr th {\n",
              "        vertical-align: top;\n",
              "    }\n",
              "\n",
              "    .dataframe thead th {\n",
              "        text-align: right;\n",
              "    }\n",
              "</style>\n",
              "<table border=\"1\" class=\"dataframe\">\n",
              "  <thead>\n",
              "    <tr style=\"text-align: right;\">\n",
              "      <th></th>\n",
              "      <th>price</th>\n",
              "      <th>min_nights</th>\n",
              "      <th>max_nights</th>\n",
              "      <th>accommodates</th>\n",
              "      <th>bathrooms</th>\n",
              "      <th>bedrooms</th>\n",
              "      <th>number_of_reviews</th>\n",
              "      <th>resid</th>\n",
              "      <th>fitted</th>\n",
              "    </tr>\n",
              "  </thead>\n",
              "  <tbody>\n",
              "    <tr>\n",
              "      <th>0</th>\n",
              "      <td>150</td>\n",
              "      <td>59</td>\n",
              "      <td>370</td>\n",
              "      <td>2</td>\n",
              "      <td>1.0</td>\n",
              "      <td>1</td>\n",
              "      <td>10</td>\n",
              "      <td>-235.670057</td>\n",
              "      <td>385.670057</td>\n",
              "    </tr>\n",
              "    <tr>\n",
              "      <th>1</th>\n",
              "      <td>60</td>\n",
              "      <td>31</td>\n",
              "      <td>365</td>\n",
              "      <td>1</td>\n",
              "      <td>1.0</td>\n",
              "      <td>1</td>\n",
              "      <td>84</td>\n",
              "      <td>-246.457427</td>\n",
              "      <td>306.457427</td>\n",
              "    </tr>\n",
              "    <tr>\n",
              "      <th>2</th>\n",
              "      <td>79</td>\n",
              "      <td>1</td>\n",
              "      <td>1125</td>\n",
              "      <td>2</td>\n",
              "      <td>1.0</td>\n",
              "      <td>1</td>\n",
              "      <td>546</td>\n",
              "      <td>267.086292</td>\n",
              "      <td>-188.086292</td>\n",
              "    </tr>\n",
              "    <tr>\n",
              "      <th>3</th>\n",
              "      <td>128</td>\n",
              "      <td>6</td>\n",
              "      <td>29</td>\n",
              "      <td>1</td>\n",
              "      <td>1.0</td>\n",
              "      <td>1</td>\n",
              "      <td>67</td>\n",
              "      <td>-196.654923</td>\n",
              "      <td>324.654923</td>\n",
              "    </tr>\n",
              "    <tr>\n",
              "      <th>4</th>\n",
              "      <td>0</td>\n",
              "      <td>30</td>\n",
              "      <td>1125</td>\n",
              "      <td>2</td>\n",
              "      <td>0.0</td>\n",
              "      <td>0</td>\n",
              "      <td>102</td>\n",
              "      <td>147.067769</td>\n",
              "      <td>-147.067769</td>\n",
              "    </tr>\n",
              "    <tr>\n",
              "      <th>...</th>\n",
              "      <td>...</td>\n",
              "      <td>...</td>\n",
              "      <td>...</td>\n",
              "      <td>...</td>\n",
              "      <td>...</td>\n",
              "      <td>...</td>\n",
              "      <td>...</td>\n",
              "      <td>...</td>\n",
              "      <td>...</td>\n",
              "    </tr>\n",
              "    <tr>\n",
              "      <th>6418</th>\n",
              "      <td>45</td>\n",
              "      <td>31</td>\n",
              "      <td>60</td>\n",
              "      <td>1</td>\n",
              "      <td>1.0</td>\n",
              "      <td>1</td>\n",
              "      <td>0</td>\n",
              "      <td>-351.374467</td>\n",
              "      <td>396.374467</td>\n",
              "    </tr>\n",
              "    <tr>\n",
              "      <th>6419</th>\n",
              "      <td>141</td>\n",
              "      <td>2</td>\n",
              "      <td>365</td>\n",
              "      <td>4</td>\n",
              "      <td>1.0</td>\n",
              "      <td>1</td>\n",
              "      <td>0</td>\n",
              "      <td>-255.374467</td>\n",
              "      <td>396.374467</td>\n",
              "    </tr>\n",
              "    <tr>\n",
              "      <th>6420</th>\n",
              "      <td>165</td>\n",
              "      <td>1</td>\n",
              "      <td>28</td>\n",
              "      <td>4</td>\n",
              "      <td>2.0</td>\n",
              "      <td>1</td>\n",
              "      <td>0</td>\n",
              "      <td>-661.353377</td>\n",
              "      <td>826.353377</td>\n",
              "    </tr>\n",
              "    <tr>\n",
              "      <th>6421</th>\n",
              "      <td>122</td>\n",
              "      <td>2</td>\n",
              "      <td>45</td>\n",
              "      <td>4</td>\n",
              "      <td>1.0</td>\n",
              "      <td>1</td>\n",
              "      <td>0</td>\n",
              "      <td>-274.374467</td>\n",
              "      <td>396.374467</td>\n",
              "    </tr>\n",
              "    <tr>\n",
              "      <th>6422</th>\n",
              "      <td>55</td>\n",
              "      <td>1</td>\n",
              "      <td>365</td>\n",
              "      <td>2</td>\n",
              "      <td>1.0</td>\n",
              "      <td>1</td>\n",
              "      <td>0</td>\n",
              "      <td>-341.374467</td>\n",
              "      <td>396.374467</td>\n",
              "    </tr>\n",
              "  </tbody>\n",
              "</table>\n",
              "<p>6423 rows × 9 columns</p>\n",
              "</div>"
            ],
            "text/plain": [
              "      price  min_nights  max_nights  accommodates  bathrooms  bedrooms  \\\n",
              "0       150          59         370             2        1.0         1   \n",
              "1        60          31         365             1        1.0         1   \n",
              "2        79           1        1125             2        1.0         1   \n",
              "3       128           6          29             1        1.0         1   \n",
              "4         0          30        1125             2        0.0         0   \n",
              "...     ...         ...         ...           ...        ...       ...   \n",
              "6418     45          31          60             1        1.0         1   \n",
              "6419    141           2         365             4        1.0         1   \n",
              "6420    165           1          28             4        2.0         1   \n",
              "6421    122           2          45             4        1.0         1   \n",
              "6422     55           1         365             2        1.0         1   \n",
              "\n",
              "      number_of_reviews       resid      fitted  \n",
              "0                    10 -235.670057  385.670057  \n",
              "1                    84 -246.457427  306.457427  \n",
              "2                   546  267.086292 -188.086292  \n",
              "3                    67 -196.654923  324.654923  \n",
              "4                   102  147.067769 -147.067769  \n",
              "...                 ...         ...         ...  \n",
              "6418                  0 -351.374467  396.374467  \n",
              "6419                  0 -255.374467  396.374467  \n",
              "6420                  0 -661.353377  826.353377  \n",
              "6421                  0 -274.374467  396.374467  \n",
              "6422                  0 -341.374467  396.374467  \n",
              "\n",
              "[6423 rows x 9 columns]"
            ]
          },
          "execution_count": 28,
          "metadata": {},
          "output_type": "execute_result"
        }
      ],
      "source": [
        "data2[\"resid\"]=model5.resid\n",
        "data2[\"fitted\"]=model5.fittedvalues\n",
        "data2"
      ]
    },
    {
      "cell_type": "code",
      "execution_count": 29,
      "metadata": {},
      "outputs": [
        {
          "data": {
            "application/vnd.plotly.v1+json": {
              "config": {
                "plotlyServerURL": "https://plot.ly"
              },
              "data": [
                {
                  "hovertemplate": "fitted=%{x}<br>resid=%{y}<extra></extra>",
                  "legendgroup": "",
                  "marker": {
                    "color": "#636efa",
                    "symbol": "circle"
                  },
                  "mode": "markers",
                  "name": "",
                  "showlegend": false,
                  "type": "scattergl",
                  "x": {
                    "bdata": "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",
                    "dtype": "f8"
                  },
                  "xaxis": "x",
                  "y": {
                    "bdata": "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",
                    "dtype": "f8"
                  },
                  "yaxis": "y"
                }
              ],
              "layout": {
                "legend": {
                  "tracegroupgap": 0
                },
                "margin": {
                  "t": 60
                },
                "shapes": [
                  {
                    "line": {
                      "color": "red",
                      "dash": "dash"
                    },
                    "type": "line",
                    "x0": 0,
                    "x1": 1,
                    "xref": "x domain",
                    "y0": 0,
                    "y1": 0,
                    "yref": "y"
                  }
                ],
                "template": {
                  "data": {
                    "bar": [
                      {
                        "error_x": {
                          "color": "#2a3f5f"
                        },
                        "error_y": {
                          "color": "#2a3f5f"
                        },
                        "marker": {
                          "line": {
                            "color": "#E5ECF6",
                            "width": 0.5
                          },
                          "pattern": {
                            "fillmode": "overlay",
                            "size": 10,
                            "solidity": 0.2
                          }
                        },
                        "type": "bar"
                      }
                    ],
                    "barpolar": [
                      {
                        "marker": {
                          "line": {
                            "color": "#E5ECF6",
                            "width": 0.5
                          },
                          "pattern": {
                            "fillmode": "overlay",
                            "size": 10,
                            "solidity": 0.2
                          }
                        },
                        "type": "barpolar"
                      }
                    ],
                    "carpet": [
                      {
                        "aaxis": {
                          "endlinecolor": "#2a3f5f",
                          "gridcolor": "white",
                          "linecolor": "white",
                          "minorgridcolor": "white",
                          "startlinecolor": "#2a3f5f"
                        },
                        "baxis": {
                          "endlinecolor": "#2a3f5f",
                          "gridcolor": "white",
                          "linecolor": "white",
                          "minorgridcolor": "white",
                          "startlinecolor": "#2a3f5f"
                        },
                        "type": "carpet"
                      }
                    ],
                    "choropleth": [
                      {
                        "colorbar": {
                          "outlinewidth": 0,
                          "ticks": ""
                        },
                        "type": "choropleth"
                      }
                    ],
                    "contour": [
                      {
                        "colorbar": {
                          "outlinewidth": 0,
                          "ticks": ""
                        },
                        "colorscale": [
                          [
                            0,
                            "#0d0887"
                          ],
                          [
                            0.1111111111111111,
                            "#46039f"
                          ],
                          [
                            0.2222222222222222,
                            "#7201a8"
                          ],
                          [
                            0.3333333333333333,
                            "#9c179e"
                          ],
                          [
                            0.4444444444444444,
                            "#bd3786"
                          ],
                          [
                            0.5555555555555556,
                            "#d8576b"
                          ],
                          [
                            0.6666666666666666,
                            "#ed7953"
                          ],
                          [
                            0.7777777777777778,
                            "#fb9f3a"
                          ],
                          [
                            0.8888888888888888,
                            "#fdca26"
                          ],
                          [
                            1,
                            "#f0f921"
                          ]
                        ],
                        "type": "contour"
                      }
                    ],
                    "contourcarpet": [
                      {
                        "colorbar": {
                          "outlinewidth": 0,
                          "ticks": ""
                        },
                        "type": "contourcarpet"
                      }
                    ],
                    "heatmap": [
                      {
                        "colorbar": {
                          "outlinewidth": 0,
                          "ticks": ""
                        },
                        "colorscale": [
                          [
                            0,
                            "#0d0887"
                          ],
                          [
                            0.1111111111111111,
                            "#46039f"
                          ],
                          [
                            0.2222222222222222,
                            "#7201a8"
                          ],
                          [
                            0.3333333333333333,
                            "#9c179e"
                          ],
                          [
                            0.4444444444444444,
                            "#bd3786"
                          ],
                          [
                            0.5555555555555556,
                            "#d8576b"
                          ],
                          [
                            0.6666666666666666,
                            "#ed7953"
                          ],
                          [
                            0.7777777777777778,
                            "#fb9f3a"
                          ],
                          [
                            0.8888888888888888,
                            "#fdca26"
                          ],
                          [
                            1,
                            "#f0f921"
                          ]
                        ],
                        "type": "heatmap"
                      }
                    ],
                    "histogram": [
                      {
                        "marker": {
                          "pattern": {
                            "fillmode": "overlay",
                            "size": 10,
                            "solidity": 0.2
                          }
                        },
                        "type": "histogram"
                      }
                    ],
                    "histogram2d": [
                      {
                        "colorbar": {
                          "outlinewidth": 0,
                          "ticks": ""
                        },
                        "colorscale": [
                          [
                            0,
                            "#0d0887"
                          ],
                          [
                            0.1111111111111111,
                            "#46039f"
                          ],
                          [
                            0.2222222222222222,
                            "#7201a8"
                          ],
                          [
                            0.3333333333333333,
                            "#9c179e"
                          ],
                          [
                            0.4444444444444444,
                            "#bd3786"
                          ],
                          [
                            0.5555555555555556,
                            "#d8576b"
                          ],
                          [
                            0.6666666666666666,
                            "#ed7953"
                          ],
                          [
                            0.7777777777777778,
                            "#fb9f3a"
                          ],
                          [
                            0.8888888888888888,
                            "#fdca26"
                          ],
                          [
                            1,
                            "#f0f921"
                          ]
                        ],
                        "type": "histogram2d"
                      }
                    ],
                    "histogram2dcontour": [
                      {
                        "colorbar": {
                          "outlinewidth": 0,
                          "ticks": ""
                        },
                        "colorscale": [
                          [
                            0,
                            "#0d0887"
                          ],
                          [
                            0.1111111111111111,
                            "#46039f"
                          ],
                          [
                            0.2222222222222222,
                            "#7201a8"
                          ],
                          [
                            0.3333333333333333,
                            "#9c179e"
                          ],
                          [
                            0.4444444444444444,
                            "#bd3786"
                          ],
                          [
                            0.5555555555555556,
                            "#d8576b"
                          ],
                          [
                            0.6666666666666666,
                            "#ed7953"
                          ],
                          [
                            0.7777777777777778,
                            "#fb9f3a"
                          ],
                          [
                            0.8888888888888888,
                            "#fdca26"
                          ],
                          [
                            1,
                            "#f0f921"
                          ]
                        ],
                        "type": "histogram2dcontour"
                      }
                    ],
                    "mesh3d": [
                      {
                        "colorbar": {
                          "outlinewidth": 0,
                          "ticks": ""
                        },
                        "type": "mesh3d"
                      }
                    ],
                    "parcoords": [
                      {
                        "line": {
                          "colorbar": {
                            "outlinewidth": 0,
                            "ticks": ""
                          }
                        },
                        "type": "parcoords"
                      }
                    ],
                    "pie": [
                      {
                        "automargin": true,
                        "type": "pie"
                      }
                    ],
                    "scatter": [
                      {
                        "fillpattern": {
                          "fillmode": "overlay",
                          "size": 10,
                          "solidity": 0.2
                        },
                        "type": "scatter"
                      }
                    ],
                    "scatter3d": [
                      {
                        "line": {
                          "colorbar": {
                            "outlinewidth": 0,
                            "ticks": ""
                          }
                        },
                        "marker": {
                          "colorbar": {
                            "outlinewidth": 0,
                            "ticks": ""
                          }
                        },
                        "type": "scatter3d"
                      }
                    ],
                    "scattercarpet": [
                      {
                        "marker": {
                          "colorbar": {
                            "outlinewidth": 0,
                            "ticks": ""
                          }
                        },
                        "type": "scattercarpet"
                      }
                    ],
                    "scattergeo": [
                      {
                        "marker": {
                          "colorbar": {
                            "outlinewidth": 0,
                            "ticks": ""
                          }
                        },
                        "type": "scattergeo"
                      }
                    ],
                    "scattergl": [
                      {
                        "marker": {
                          "colorbar": {
                            "outlinewidth": 0,
                            "ticks": ""
                          }
                        },
                        "type": "scattergl"
                      }
                    ],
                    "scattermap": [
                      {
                        "marker": {
                          "colorbar": {
                            "outlinewidth": 0,
                            "ticks": ""
                          }
                        },
                        "type": "scattermap"
                      }
                    ],
                    "scattermapbox": [
                      {
                        "marker": {
                          "colorbar": {
                            "outlinewidth": 0,
                            "ticks": ""
                          }
                        },
                        "type": "scattermapbox"
                      }
                    ],
                    "scatterpolar": [
                      {
                        "marker": {
                          "colorbar": {
                            "outlinewidth": 0,
                            "ticks": ""
                          }
                        },
                        "type": "scatterpolar"
                      }
                    ],
                    "scatterpolargl": [
                      {
                        "marker": {
                          "colorbar": {
                            "outlinewidth": 0,
                            "ticks": ""
                          }
                        },
                        "type": "scatterpolargl"
                      }
                    ],
                    "scatterternary": [
                      {
                        "marker": {
                          "colorbar": {
                            "outlinewidth": 0,
                            "ticks": ""
                          }
                        },
                        "type": "scatterternary"
                      }
                    ],
                    "surface": [
                      {
                        "colorbar": {
                          "outlinewidth": 0,
                          "ticks": ""
                        },
                        "colorscale": [
                          [
                            0,
                            "#0d0887"
                          ],
                          [
                            0.1111111111111111,
                            "#46039f"
                          ],
                          [
                            0.2222222222222222,
                            "#7201a8"
                          ],
                          [
                            0.3333333333333333,
                            "#9c179e"
                          ],
                          [
                            0.4444444444444444,
                            "#bd3786"
                          ],
                          [
                            0.5555555555555556,
                            "#d8576b"
                          ],
                          [
                            0.6666666666666666,
                            "#ed7953"
                          ],
                          [
                            0.7777777777777778,
                            "#fb9f3a"
                          ],
                          [
                            0.8888888888888888,
                            "#fdca26"
                          ],
                          [
                            1,
                            "#f0f921"
                          ]
                        ],
                        "type": "surface"
                      }
                    ],
                    "table": [
                      {
                        "cells": {
                          "fill": {
                            "color": "#EBF0F8"
                          },
                          "line": {
                            "color": "white"
                          }
                        },
                        "header": {
                          "fill": {
                            "color": "#C8D4E3"
                          },
                          "line": {
                            "color": "white"
                          }
                        },
                        "type": "table"
                      }
                    ]
                  },
                  "layout": {
                    "annotationdefaults": {
                      "arrowcolor": "#2a3f5f",
                      "arrowhead": 0,
                      "arrowwidth": 1
                    },
                    "autotypenumbers": "strict",
                    "coloraxis": {
                      "colorbar": {
                        "outlinewidth": 0,
                        "ticks": ""
                      }
                    },
                    "colorscale": {
                      "diverging": [
                        [
                          0,
                          "#8e0152"
                        ],
                        [
                          0.1,
                          "#c51b7d"
                        ],
                        [
                          0.2,
                          "#de77ae"
                        ],
                        [
                          0.3,
                          "#f1b6da"
                        ],
                        [
                          0.4,
                          "#fde0ef"
                        ],
                        [
                          0.5,
                          "#f7f7f7"
                        ],
                        [
                          0.6,
                          "#e6f5d0"
                        ],
                        [
                          0.7,
                          "#b8e186"
                        ],
                        [
                          0.8,
                          "#7fbc41"
                        ],
                        [
                          0.9,
                          "#4d9221"
                        ],
                        [
                          1,
                          "#276419"
                        ]
                      ],
                      "sequential": [
                        [
                          0,
                          "#0d0887"
                        ],
                        [
                          0.1111111111111111,
                          "#46039f"
                        ],
                        [
                          0.2222222222222222,
                          "#7201a8"
                        ],
                        [
                          0.3333333333333333,
                          "#9c179e"
                        ],
                        [
                          0.4444444444444444,
                          "#bd3786"
                        ],
                        [
                          0.5555555555555556,
                          "#d8576b"
                        ],
                        [
                          0.6666666666666666,
                          "#ed7953"
                        ],
                        [
                          0.7777777777777778,
                          "#fb9f3a"
                        ],
                        [
                          0.8888888888888888,
                          "#fdca26"
                        ],
                        [
                          1,
                          "#f0f921"
                        ]
                      ],
                      "sequentialminus": [
                        [
                          0,
                          "#0d0887"
                        ],
                        [
                          0.1111111111111111,
                          "#46039f"
                        ],
                        [
                          0.2222222222222222,
                          "#7201a8"
                        ],
                        [
                          0.3333333333333333,
                          "#9c179e"
                        ],
                        [
                          0.4444444444444444,
                          "#bd3786"
                        ],
                        [
                          0.5555555555555556,
                          "#d8576b"
                        ],
                        [
                          0.6666666666666666,
                          "#ed7953"
                        ],
                        [
                          0.7777777777777778,
                          "#fb9f3a"
                        ],
                        [
                          0.8888888888888888,
                          "#fdca26"
                        ],
                        [
                          1,
                          "#f0f921"
                        ]
                      ]
                    },
                    "colorway": [
                      "#636efa",
                      "#EF553B",
                      "#00cc96",
                      "#ab63fa",
                      "#FFA15A",
                      "#19d3f3",
                      "#FF6692",
                      "#B6E880",
                      "#FF97FF",
                      "#FECB52"
                    ],
                    "font": {
                      "color": "#2a3f5f"
                    },
                    "geo": {
                      "bgcolor": "white",
                      "lakecolor": "white",
                      "landcolor": "#E5ECF6",
                      "showlakes": true,
                      "showland": true,
                      "subunitcolor": "white"
                    },
                    "hoverlabel": {
                      "align": "left"
                    },
                    "hovermode": "closest",
                    "mapbox": {
                      "style": "light"
                    },
                    "paper_bgcolor": "white",
                    "plot_bgcolor": "#E5ECF6",
                    "polar": {
                      "angularaxis": {
                        "gridcolor": "white",
                        "linecolor": "white",
                        "ticks": ""
                      },
                      "bgcolor": "#E5ECF6",
                      "radialaxis": {
                        "gridcolor": "white",
                        "linecolor": "white",
                        "ticks": ""
                      }
                    },
                    "scene": {
                      "xaxis": {
                        "backgroundcolor": "#E5ECF6",
                        "gridcolor": "white",
                        "gridwidth": 2,
                        "linecolor": "white",
                        "showbackground": true,
                        "ticks": "",
                        "zerolinecolor": "white"
                      },
                      "yaxis": {
                        "backgroundcolor": "#E5ECF6",
                        "gridcolor": "white",
                        "gridwidth": 2,
                        "linecolor": "white",
                        "showbackground": true,
                        "ticks": "",
                        "zerolinecolor": "white"
                      },
                      "zaxis": {
                        "backgroundcolor": "#E5ECF6",
                        "gridcolor": "white",
                        "gridwidth": 2,
                        "linecolor": "white",
                        "showbackground": true,
                        "ticks": "",
                        "zerolinecolor": "white"
                      }
                    },
                    "shapedefaults": {
                      "line": {
                        "color": "#2a3f5f"
                      }
                    },
                    "ternary": {
                      "aaxis": {
                        "gridcolor": "white",
                        "linecolor": "white",
                        "ticks": ""
                      },
                      "baxis": {
                        "gridcolor": "white",
                        "linecolor": "white",
                        "ticks": ""
                      },
                      "bgcolor": "#E5ECF6",
                      "caxis": {
                        "gridcolor": "white",
                        "linecolor": "white",
                        "ticks": ""
                      }
                    },
                    "title": {
                      "x": 0.05
                    },
                    "xaxis": {
                      "automargin": true,
                      "gridcolor": "white",
                      "linecolor": "white",
                      "ticks": "",
                      "title": {
                        "standoff": 15
                      },
                      "zerolinecolor": "white",
                      "zerolinewidth": 2
                    },
                    "yaxis": {
                      "automargin": true,
                      "gridcolor": "white",
                      "linecolor": "white",
                      "ticks": "",
                      "title": {
                        "standoff": 15
                      },
                      "zerolinecolor": "white",
                      "zerolinewidth": 2
                    }
                  }
                },
                "xaxis": {
                  "anchor": "y",
                  "domain": [
                    0,
                    1
                  ],
                  "title": {
                    "text": "fitted"
                  }
                },
                "yaxis": {
                  "anchor": "x",
                  "domain": [
                    0,
                    1
                  ],
                  "title": {
                    "text": "resid"
                  }
                }
              }
            }
          },
          "metadata": {},
          "output_type": "display_data"
        }
      ],
      "source": [
        "fig=px.scatter(data2, x=\"fitted\", y=\"resid\")\n",
        "fig.add_hline(y=0, line_dash=\"dash\", line_color=\"red\")\n",
        "fig.show()"
      ]
    }
  ],
  "metadata": {
    "colab": {
      "provenance": []
    },
    "kernelspec": {
      "display_name": "ds6001",
      "language": "python",
      "name": "python3"
    },
    "language_info": {
      "codemirror_mode": {
        "name": "ipython",
        "version": 3
      },
      "file_extension": ".py",
      "mimetype": "text/x-python",
      "name": "python",
      "nbconvert_exporter": "python",
      "pygments_lexer": "ipython3",
      "version": "3.13.5"
    }
  },
  "nbformat": 4,
  "nbformat_minor": 0
}
