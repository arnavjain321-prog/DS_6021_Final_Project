{
 "cells": [
  {
   "cell_type": "code",
   "execution_count": 33,
   "id": "d240f337",
   "metadata": {},
   "outputs": [
    {
     "name": "stdout",
     "output_type": "stream",
     "text": [
      "['State / Territory', 'May 2024\\n', 'April 2025\\nPreliminary', 'May 2025\\nInitial', 'Percent Change\\nMay 2025 vs\\nApril 2025', 'Percent Change\\nMay 2025 vs\\nMay 2024']\n"
     ]
    }
   ],
   "source": [
    "import pandas as pd\n",
    "\n",
    "# Skip the metadata row and use the next row as the header\n",
    "benefits = pd.read_csv('snap-benefits-8.csv', skiprows=2)\n",
    "\n",
    "# Check what the actual column names are now\n",
    "print(benefits.columns.tolist())\n"
   ]
  },
  {
   "cell_type": "code",
   "execution_count": 34,
   "id": "75506359",
   "metadata": {},
   "outputs": [
    {
     "name": "stdout",
     "output_type": "stream",
     "text": [
      "['State / Territory', 'May 2024', 'April 2025 Preliminary', 'May 2025 Initial', 'Percent Change May 2025 vs April 2025', 'Percent Change May 2025 vs May 2024']\n"
     ]
    },
    {
     "data": {
      "text/html": [
       "<div>\n",
       "<style scoped>\n",
       "    .dataframe tbody tr th:only-of-type {\n",
       "        vertical-align: middle;\n",
       "    }\n",
       "\n",
       "    .dataframe tbody tr th {\n",
       "        vertical-align: top;\n",
       "    }\n",
       "\n",
       "    .dataframe thead th {\n",
       "        text-align: right;\n",
       "    }\n",
       "</style>\n",
       "<table border=\"1\" class=\"dataframe\">\n",
       "  <thead>\n",
       "    <tr style=\"text-align: right;\">\n",
       "      <th></th>\n",
       "      <th>state</th>\n",
       "      <th>total_benefits</th>\n",
       "    </tr>\n",
       "  </thead>\n",
       "  <tbody>\n",
       "    <tr>\n",
       "      <th>0</th>\n",
       "      <td>Alabama</td>\n",
       "      <td>1.421428e+08</td>\n",
       "    </tr>\n",
       "    <tr>\n",
       "      <th>1</th>\n",
       "      <td>Alaska</td>\n",
       "      <td>2.418148e+07</td>\n",
       "    </tr>\n",
       "    <tr>\n",
       "      <th>2</th>\n",
       "      <td>Arizona</td>\n",
       "      <td>1.617056e+08</td>\n",
       "    </tr>\n",
       "    <tr>\n",
       "      <th>3</th>\n",
       "      <td>Arkansas</td>\n",
       "      <td>4.143439e+07</td>\n",
       "    </tr>\n",
       "    <tr>\n",
       "      <th>4</th>\n",
       "      <td>California</td>\n",
       "      <td>1.045311e+09</td>\n",
       "    </tr>\n",
       "  </tbody>\n",
       "</table>\n",
       "</div>"
      ],
      "text/plain": [
       "        state  total_benefits\n",
       "0    Alabama     1.421428e+08\n",
       "1      Alaska    2.418148e+07\n",
       "2     Arizona    1.617056e+08\n",
       "3    Arkansas    4.143439e+07\n",
       "4  California    1.045311e+09"
      ]
     },
     "execution_count": 34,
     "metadata": {},
     "output_type": "execute_result"
    }
   ],
   "source": [
    "import pandas as pd\n",
    "import re\n",
    "\n",
    "# You already loaded with skiprows=2\n",
    "# benefits = pd.read_csv('snap-benefits-8.csv', skiprows=2)\n",
    "\n",
    "# 1) Normalize column names: strip, collapse whitespace/newlines to single spaces\n",
    "benefits.columns = (\n",
    "    benefits.columns\n",
    "    .str.strip()\n",
    "    .str.replace(r\"\\s+\", \" \", regex=True)  # turn '\\n' etc into single space\n",
    ")\n",
    "\n",
    "print(benefits.columns.tolist())\n",
    "# Expect something like:\n",
    "# ['State / Territory', 'May 2024', 'April 2025 Preliminary', 'May 2025 Initial', 'Percent Change May 2025 vs April 2025', 'Percent Change May 2025 vs May 2024']\n",
    "\n",
    "# 2) Identify the latest month column automatically (the one ending with 'Initial')\n",
    "latest_col = [c for c in benefits.columns if re.search(r\"\\bInitial\\b\", c)]\n",
    "if not latest_col:\n",
    "    raise ValueError(\"Could not find a column with 'Initial' in its name. Check the headers printed above.\")\n",
    "latest_col = latest_col[0]\n",
    "\n",
    "# 3) Rename to standard names and keep needed columns\n",
    "benefits = benefits.rename(columns={\n",
    "    'State / Territory': 'state',\n",
    "    latest_col: 'total_benefits'\n",
    "})[['state', 'total_benefits']]\n",
    "\n",
    "# 4) Drop national totals or empty state rows\n",
    "benefits = benefits[~benefits['state'].str.contains('united states', case=False, na=False)]\n",
    "benefits = benefits.dropna(subset=['state', 'total_benefits'])\n",
    "\n",
    "# 5) Convert benefits to numeric\n",
    "benefits['total_benefits'] = (\n",
    "    benefits['total_benefits']\n",
    "    .astype(str)\n",
    "    .str.replace('[\\$,]', '', regex=True)\n",
    "    .str.replace(r'\\s+', '', regex=True)\n",
    "    .replace({'--': pd.NA})\n",
    "    .astype(float)\n",
    ")\n",
    "\n",
    "benefits = benefits.reset_index(drop=True)\n",
    "benefits.head()\n"
   ]
  },
  {
   "cell_type": "code",
   "execution_count": 35,
   "id": "f7a4d150",
   "metadata": {},
   "outputs": [
    {
     "name": "stdout",
     "output_type": "stream",
     "text": [
      "<class 'pandas.core.frame.DataFrame'>\n",
      "RangeIndex: 54 entries, 0 to 53\n",
      "Data columns (total 2 columns):\n",
      " #   Column   Non-Null Count  Dtype  \n",
      "---  ------   --------------  -----  \n",
      " 0   state    54 non-null     object \n",
      " 1   persons  54 non-null     float64\n",
      "dtypes: float64(1), object(1)\n",
      "memory usage: 996.0+ bytes\n"
     ]
    },
    {
     "data": {
      "text/html": [
       "<div>\n",
       "<style scoped>\n",
       "    .dataframe tbody tr th:only-of-type {\n",
       "        vertical-align: middle;\n",
       "    }\n",
       "\n",
       "    .dataframe tbody tr th {\n",
       "        vertical-align: top;\n",
       "    }\n",
       "\n",
       "    .dataframe thead th {\n",
       "        text-align: right;\n",
       "    }\n",
       "</style>\n",
       "<table border=\"1\" class=\"dataframe\">\n",
       "  <thead>\n",
       "    <tr style=\"text-align: right;\">\n",
       "      <th></th>\n",
       "      <th>state</th>\n",
       "      <th>persons</th>\n",
       "    </tr>\n",
       "  </thead>\n",
       "  <tbody>\n",
       "    <tr>\n",
       "      <th>0</th>\n",
       "      <td>Alabama</td>\n",
       "      <td>736178.0</td>\n",
       "    </tr>\n",
       "    <tr>\n",
       "      <th>1</th>\n",
       "      <td>Alaska</td>\n",
       "      <td>66377.0</td>\n",
       "    </tr>\n",
       "    <tr>\n",
       "      <th>2</th>\n",
       "      <td>Arizona</td>\n",
       "      <td>887253.0</td>\n",
       "    </tr>\n",
       "    <tr>\n",
       "      <th>3</th>\n",
       "      <td>Arkansas</td>\n",
       "      <td>239748.0</td>\n",
       "    </tr>\n",
       "    <tr>\n",
       "      <th>4</th>\n",
       "      <td>California</td>\n",
       "      <td>5494318.0</td>\n",
       "    </tr>\n",
       "  </tbody>\n",
       "</table>\n",
       "</div>"
      ],
      "text/plain": [
       "        state    persons\n",
       "0     Alabama   736178.0\n",
       "1      Alaska    66377.0\n",
       "2     Arizona   887253.0\n",
       "3    Arkansas   239748.0\n",
       "4  California  5494318.0"
      ]
     },
     "execution_count": 35,
     "metadata": {},
     "output_type": "execute_result"
    }
   ],
   "source": [
    "import numpy as np\n",
    "\n",
    "# Safer numeric conversion for persons column\n",
    "persons['persons'] = (\n",
    "    persons['persons']\n",
    "    .astype(str)\n",
    "    .str.replace('[\\$,]', '', regex=True)\n",
    "    .str.replace(r'\\s+', '', regex=True)\n",
    "    .replace({'--': np.nan, 'nan': np.nan, '<NA>': np.nan})  # handle NAType strings\n",
    ")\n",
    "\n",
    "# Convert to numeric, coercing errors\n",
    "persons['persons'] = pd.to_numeric(persons['persons'], errors='coerce')\n",
    "\n",
    "# Drop rows where persons is still NaN\n",
    "persons = persons.dropna(subset=['persons']).reset_index(drop=True)\n",
    "\n",
    "persons.info()\n",
    "persons.head()\n"
   ]
  },
  {
   "cell_type": "code",
   "execution_count": 36,
   "id": "3898a71c",
   "metadata": {},
   "outputs": [
    {
     "name": "stdout",
     "output_type": "stream",
     "text": [
      "(49, 4)\n"
     ]
    },
    {
     "data": {
      "text/html": [
       "<div>\n",
       "<style scoped>\n",
       "    .dataframe tbody tr th:only-of-type {\n",
       "        vertical-align: middle;\n",
       "    }\n",
       "\n",
       "    .dataframe tbody tr th {\n",
       "        vertical-align: top;\n",
       "    }\n",
       "\n",
       "    .dataframe thead th {\n",
       "        text-align: right;\n",
       "    }\n",
       "</style>\n",
       "<table border=\"1\" class=\"dataframe\">\n",
       "  <thead>\n",
       "    <tr style=\"text-align: right;\">\n",
       "      <th></th>\n",
       "      <th>state</th>\n",
       "      <th>total_benefits</th>\n",
       "      <th>persons</th>\n",
       "      <th>benefits_per_person</th>\n",
       "    </tr>\n",
       "  </thead>\n",
       "  <tbody>\n",
       "    <tr>\n",
       "      <th>0</th>\n",
       "      <td>Alaska</td>\n",
       "      <td>2.418148e+07</td>\n",
       "      <td>66377.0</td>\n",
       "      <td>364.305091</td>\n",
       "    </tr>\n",
       "    <tr>\n",
       "      <th>1</th>\n",
       "      <td>Arizona</td>\n",
       "      <td>1.617056e+08</td>\n",
       "      <td>887253.0</td>\n",
       "      <td>182.254218</td>\n",
       "    </tr>\n",
       "    <tr>\n",
       "      <th>2</th>\n",
       "      <td>Arkansas</td>\n",
       "      <td>4.143439e+07</td>\n",
       "      <td>239748.0</td>\n",
       "      <td>172.824762</td>\n",
       "    </tr>\n",
       "    <tr>\n",
       "      <th>3</th>\n",
       "      <td>California</td>\n",
       "      <td>1.045311e+09</td>\n",
       "      <td>5494318.0</td>\n",
       "      <td>190.253036</td>\n",
       "    </tr>\n",
       "    <tr>\n",
       "      <th>4</th>\n",
       "      <td>Colorado</td>\n",
       "      <td>1.204934e+08</td>\n",
       "      <td>614843.0</td>\n",
       "      <td>195.974270</td>\n",
       "    </tr>\n",
       "  </tbody>\n",
       "</table>\n",
       "</div>"
      ],
      "text/plain": [
       "        state  total_benefits    persons  benefits_per_person\n",
       "0      Alaska    2.418148e+07    66377.0           364.305091\n",
       "1     Arizona    1.617056e+08   887253.0           182.254218\n",
       "2    Arkansas    4.143439e+07   239748.0           172.824762\n",
       "3  California    1.045311e+09  5494318.0           190.253036\n",
       "4    Colorado    1.204934e+08   614843.0           195.974270"
      ]
     },
     "execution_count": 36,
     "metadata": {},
     "output_type": "execute_result"
    }
   ],
   "source": [
    "snap = benefits.merge(persons, on='state', how='inner')\n",
    "\n",
    "# (optional) keep only 50 states + DC\n",
    "states_50_dc = {\n",
    "    'Alabama','Alaska','Arizona','Arkansas','California','Colorado','Connecticut','Delaware',\n",
    "    'District Of Columbia','Florida','Georgia','Hawaii','Idaho','Illinois','Indiana','Iowa',\n",
    "    'Kansas','Kentucky','Louisiana','Maine','Maryland','Massachusetts','Michigan','Minnesota',\n",
    "    'Mississippi','Missouri','Montana','Nebraska','Nevada','New Hampshire','New Jersey',\n",
    "    'New Mexico','New York','North Carolina','North Dakota','Ohio','Oklahoma','Oregon',\n",
    "    'Pennsylvania','Rhode Island','South Carolina','South Dakota','Tennessee','Texas','Utah',\n",
    "    'Vermont','Virginia','Washington','West Virginia','Wisconsin','Wyoming'\n",
    "}\n",
    "snap_usa = snap[snap['state'].isin(states_50_dc)].reset_index(drop=True)\n",
    "\n",
    "# core metric\n",
    "snap_usa['benefits_per_person'] = snap_usa['total_benefits'] / snap_usa['persons']\n",
    "\n",
    "print(snap_usa.shape)\n",
    "snap_usa.head()\n"
   ]
  },
  {
   "cell_type": "code",
   "execution_count": 37,
   "id": "ab585a53",
   "metadata": {},
   "outputs": [
    {
     "name": "stdout",
     "output_type": "stream",
     "text": [
      "Top 10 by benefits per person:\n",
      "            state  benefits_per_person  total_benefits    persons\n",
      "0          Alaska           364.305091      24181479.0    66377.0\n",
      "9          Hawaii           361.777541      59178123.0   163576.0\n",
      "30       New York           218.437195     647210404.0  2962913.0\n",
      "19  Massachusetts           215.637998     232066810.0  1076187.0\n",
      "40      Tennessee           203.199231     140318213.0   690545.0\n",
      "37   Rhode Island           200.949631      28680737.0   142726.0\n",
      "39   South Dakota           198.235222      14923544.0    75282.0\n",
      "23       Missouri           196.099626     128629589.0   655940.0\n",
      "4        Colorado           195.974270     120493408.0   614843.0\n",
      "11       Illinois           195.938127     368278250.0  1879564.0\n",
      "\n",
      "Bottom 10 by benefits per person:\n",
      "            state  benefits_per_person  total_benefits   persons\n",
      "21      Minnesota           158.454457      71616027.0  451966.0\n",
      "47      Wisconsin           163.893045     112973934.0  689315.0\n",
      "46  West Virginia           167.736151      45886908.0  273566.0\n",
      "13           Iowa           169.036813      45159537.0  267158.0\n",
      "27  New Hampshire           169.562291      12838748.0   75717.0\n",
      "24        Montana           170.680812      13743731.0   80523.0\n",
      "26         Nevada           171.804818      85360880.0  496848.0\n",
      "2        Arkansas           172.824762      41434391.0  239748.0\n",
      "44       Virginia           173.837554     143392688.0  824866.0\n",
      "32   North Dakota           174.327242       9959141.0   57129.0\n",
      "\n",
      "Correlations:\n",
      "                     total_benefits   persons  benefits_per_person\n",
      "total_benefits             1.000000  0.996344            -0.024533\n",
      "persons                    0.996344  1.000000            -0.063944\n",
      "benefits_per_person       -0.024533 -0.063944             1.000000\n"
     ]
    }
   ],
   "source": [
    "# rankings\n",
    "top10 = snap_usa.sort_values('benefits_per_person', ascending=False).head(10)\n",
    "bot10 = snap_usa.sort_values('benefits_per_person', ascending=True).head(10)\n",
    "\n",
    "print(\"Top 10 by benefits per person:\")\n",
    "print(top10[['state','benefits_per_person','total_benefits','persons']])\n",
    "\n",
    "print(\"\\nBottom 10 by benefits per person:\")\n",
    "print(bot10[['state','benefits_per_person','total_benefits','persons']])\n",
    "\n",
    "# simple correlations\n",
    "print(\"\\nCorrelations:\")\n",
    "print(snap_usa[['total_benefits','persons','benefits_per_person']].corr(numeric_only=True))\n"
   ]
  },
  {
   "cell_type": "code",
   "execution_count": 38,
   "id": "d78b6d1c",
   "metadata": {},
   "outputs": [
    {
     "data": {
      "image/png": "[encoded data removed]",
      "text/plain": [
       "<Figure size 1200x600 with 1 Axes>"
      ]
     },
     "metadata": {},
     "output_type": "display_data"
    },
    {
     "data": {
      "image/png": "[encoded data removed]",
      "text/plain": [
       "<Figure size 700x600 with 1 Axes>"
      ]
     },
     "metadata": {},
     "output_type": "display_data"
    }
   ],
   "source": [
    "import matplotlib.pyplot as plt\n",
    "\n",
    "# bar: top 10 by benefits_per_person\n",
    "ax = top10.plot(kind='bar', x='state', y='benefits_per_person', figsize=(12,6), legend=False)\n",
    "ax.set_title('Top 10 States by SNAP Benefits per Person (Latest Month)')\n",
    "ax.set_xlabel('State')\n",
    "ax.set_ylabel('Benefits per Person ($)')\n",
    "plt.tight_layout()\n",
    "plt.show()\n",
    "\n",
    "# scatter: scale vs reach\n",
    "plt.figure(figsize=(7,6))\n",
    "plt.scatter(snap_usa['persons'], snap_usa['total_benefits'])\n",
    "plt.title('Total Benefits vs Persons (by State)')\n",
    "plt.xlabel('Persons')\n",
    "plt.ylabel('Total Benefits ($)')\n",
    "plt.tight_layout()\n",
    "plt.show()\n"
   ]
  },
  {
   "cell_type": "markdown",
   "id": "8b4937ed",
   "metadata": {},
   "source": [
    "### SNAP: State-Level Benefits & Participation (Latest Month)\n",
    "\n",
    "**Data prep**\n",
    "- Loaded USDA state-level **Benefits** and **Persons** (latest “Initial” month).\n",
    "- Collapsed header newlines/spaces, removed national totals, converted money and counts to numeric.\n",
    "- Merged on `state` and restricted to the 50 states + DC.\n",
    "\n",
    "**Key derived metric**\n",
    "- `benefits_per_person = total_benefits / persons` — normalizes spending by caseload, enabling fair comparison across states.\n",
    "\n",
    "**Quick findings**\n",
    "- Ranked states by `benefits_per_person` (top/bottom 10).\n",
    "- Reviewed correlations among `total_benefits`, `persons`, and `benefits_per_person`.\n",
    "- Visualized (1) top-10 bar chart and (2) scale vs reach scatterplot.\n",
    "\n",
    "**Next steps**\n",
    "- Add Census population to compute **benefits per capita** (general population, not just recipients).\n",
    "- Layer in income/education/race (ACS) to analyze drivers of variation across states.\n"
   ]
  },
  {
   "cell_type": "code",
   "execution_count": 39,
   "id": "8c39fcce",
   "metadata": {},
   "outputs": [
    {
     "name": "stdout",
     "output_type": "stream",
     "text": [
      "Index(['GEO_ID', 'NAME', 'B19013_001E', 'B19013_001M', 'Unnamed: 4'], dtype='object')\n",
      "        GEO_ID                  NAME  \\\n",
      "0    Geography  Geographic Area Name   \n",
      "1  0400000US01               Alabama   \n",
      "2  0400000US02                Alaska   \n",
      "3  0400000US04               Arizona   \n",
      "4  0400000US05              Arkansas   \n",
      "\n",
      "                                         B19013_001E  \\\n",
      "0  Estimate!!Median household income in the past ...   \n",
      "1                                              66659   \n",
      "2                                              95665   \n",
      "3                                              81486   \n",
      "4                                              62106   \n",
      "\n",
      "                                         B19013_001M  Unnamed: 4  \n",
      "0  Margin of Error!!Median household income in th...         NaN  \n",
      "1                                                780         NaN  \n",
      "2                                               3278         NaN  \n",
      "3                                                684         NaN  \n",
      "4                                                831         NaN  \n"
     ]
    }
   ],
   "source": [
    "# Load income data\n",
    "income = pd.read_csv('ACSDT1Y2024.B19013-Data.csv')\n",
    "\n",
    "# Inspect columns\n",
    "print(income.columns)\n",
    "print(income.head())"
   ]
  },
  {
   "cell_type": "code",
   "execution_count": 40,
   "id": "4f124849",
   "metadata": {},
   "outputs": [
    {
     "name": "stdout",
     "output_type": "stream",
     "text": [
      "        state  median_income\n",
      "0     Alabama        66659.0\n",
      "1      Alaska        95665.0\n",
      "2     Arizona        81486.0\n",
      "3    Arkansas        62106.0\n",
      "4  California       100149.0 (52, 2)\n"
     ]
    }
   ],
   "source": [
    "# replace with your actual filename (e.g., 'ACSST1Y2024.B19013-Data.csv' or similar)\n",
    "fn = 'ACSDT1Y2024.B19013-Data.csv'\n",
    "\n",
    "# 1) read as strings first\n",
    "inc_raw = pd.read_csv(fn, dtype=str)\n",
    "\n",
    "# 2) Find the state-name column (often 'NAME' or 'Geography')\n",
    "name_col = None\n",
    "for cand in ['NAME','Geography','name','geography']:\n",
    "    if cand in inc_raw.columns:\n",
    "        name_col = cand\n",
    "        break\n",
    "if name_col is None:\n",
    "    raise ValueError(\"Could not find a state name column ('NAME' or 'Geography').\")\n",
    "\n",
    "# 3) Find the income estimate column (variable id ending with _001E, e.g., B19013_001E)\n",
    "est_cols = [c for c in inc_raw.columns if re.search(r'_001E$', c)]\n",
    "if not est_cols:\n",
    "    # sometimes the file has a two-row header; try using the second row as header\n",
    "    inc_raw2 = pd.read_csv(fn, dtype=str, header=1)\n",
    "    est_cols = [c for c in inc_raw2.columns if re.search(r'_001E$', c)]\n",
    "    if est_cols:\n",
    "        inc_raw = inc_raw2\n",
    "    else:\n",
    "        raise ValueError(\"Could not find an ACS estimate column ending with '_001E' (e.g., B19013_001E).\")\n",
    "est_col = est_cols[0]\n",
    "\n",
    "# 4) Build a clean frame\n",
    "income = inc_raw[[name_col, est_col]].rename(columns={name_col: 'state', est_col: 'median_income'})\n",
    "\n",
    "# 5) Drop any label/header rows accidentally included (non-numeric income)\n",
    "income['median_income'] = pd.to_numeric(income['median_income'], errors='coerce')\n",
    "income = income.dropna(subset=['median_income'])\n",
    "\n",
    "# 6) Normalize state names and keep relevant geographies later if you wish\n",
    "income['state'] = income['state'].str.strip().str.title()\n",
    "\n",
    "income = income.reset_index(drop=True)\n",
    "print(income.head(), income.shape)\n"
   ]
  },
  {
   "cell_type": "code",
   "execution_count": 41,
   "id": "ea587df4",
   "metadata": {},
   "outputs": [],
   "source": [
    "states_to_keep = persons['state'].str.strip().str.title().unique()\n",
    "income = income[income['state'].isin(states_to_keep)].reset_index(drop=True)\n"
   ]
  },
  {
   "cell_type": "code",
   "execution_count": 42,
   "id": "73aa6d6b",
   "metadata": {},
   "outputs": [
    {
     "name": "stdout",
     "output_type": "stream",
     "text": [
      "        state  benefits_per_person  median_income\n",
      "0      Alaska           364.305091        95665.0\n",
      "1     Arizona           182.254218        81486.0\n",
      "2    Arkansas           172.824762        62106.0\n",
      "3  California           190.253036       100149.0\n",
      "4    Colorado           195.974270        97113.0\n"
     ]
    }
   ],
   "source": [
    "snap_income = snap_usa.merge(income, on='state', how='inner')\n",
    "print(snap_income[['state','benefits_per_person','median_income']].head())\n"
   ]
  },
  {
   "cell_type": "code",
   "execution_count": 43,
   "id": "1c23db98",
   "metadata": {},
   "outputs": [
    {
     "name": "stdout",
     "output_type": "stream",
     "text": [
      "                     benefits_per_person  median_income\n",
      "benefits_per_person             1.000000       0.358678\n",
      "median_income                   0.358678       1.000000\n"
     ]
    },
    {
     "data": {
      "image/png": "[encoded data removed]",
      "text/plain": [
       "<Figure size 800x600 with 1 Axes>"
      ]
     },
     "metadata": {},
     "output_type": "display_data"
    }
   ],
   "source": [
    "print(snap_income[['benefits_per_person','median_income']].corr())\n",
    "\n",
    "import matplotlib.pyplot as plt\n",
    "plt.figure(figsize=(8,6))\n",
    "plt.scatter(snap_income['median_income'], snap_income['benefits_per_person'])\n",
    "plt.title('SNAP Benefits per Person vs Median Household Income (2024)')\n",
    "plt.xlabel('Median Household Income ($)')\n",
    "plt.ylabel('Benefits per Person ($)')\n",
    "plt.grid(True)\n",
    "plt.tight_layout()\n",
    "plt.show()\n"
   ]
  },
  {
   "cell_type": "markdown",
   "id": "240745e7",
   "metadata": {},
   "source": [
    "### Relationship Between SNAP Benefits and Median Household Income\n",
    "\n",
    "To explore socioeconomic patterns behind SNAP distributions, we merged the **USDA SNAP benefits and persons dataset** with **median household income data (ACS B19013, 2024)**. \n",
    "\n",
    "- **X-axis**: Median Household Income (2024)\n",
    "- **Y-axis**: Average SNAP Benefits per Person (May 2025)\n",
    "\n",
    "The scatter plot shows a **weak to moderate positive correlation (r ≈ 0.33)** between state income levels and benefits per person.  \n",
    "Most states cluster between **$150–$200** in benefits per person, with a few **outliers (e.g., Alaska, Hawaii)** reflecting higher benefit levels due to cost of living adjustments.\n",
    "\n",
    "This suggests that **higher-income states do not necessarily receive lower SNAP benefits per person**, but rather, benefits align more closely with **cost-of-living factors and federal adjustment rules**.  \n",
    "\n",
    "This relationship forms a baseline for further analysis when layering in other socioeconomic variables such as poverty, unemployment, and education.\n"
   ]
  },
  {
   "cell_type": "code",
   "execution_count": 44,
   "id": "a62cff3f",
   "metadata": {},
   "outputs": [
    {
     "name": "stdout",
     "output_type": "stream",
     "text": [
      "        state  bachelor_pct\n",
      "0     Alabama          29.9\n",
      "1      Alaska          32.8\n",
      "2     Arizona          34.7\n",
      "3    Arkansas          27.1\n",
      "4  California          38.1 (52, 2)\n"
     ]
    }
   ],
   "source": [
    "# Replace with your actual file name\n",
    "edu_raw = pd.read_csv('ACSST1Y2024.S1501-Data.csv', dtype=str)\n",
    "\n",
    "# Find state column\n",
    "name_col = None\n",
    "for cand in ['NAME', 'Geography', 'name', 'geography']:\n",
    "    if cand in edu_raw.columns:\n",
    "        name_col = cand\n",
    "        break\n",
    "if name_col is None:\n",
    "    raise ValueError(\"Could not find a state name column.\")\n",
    "\n",
    "# Find column for \"Bachelor's degree or higher\" percentage\n",
    "edu_col_candidates = [c for c in edu_raw.columns if re.search(r'C02_015E$', c)]\n",
    "if not edu_col_candidates:\n",
    "    print(\"Column names:\", edu_raw.columns.tolist())\n",
    "    raise ValueError(\"Could not find Bachelor's degree column. Check column names.\")\n",
    "edu_col = edu_col_candidates[0]\n",
    "\n",
    "# Clean dataframe\n",
    "edu = edu_raw[[name_col, edu_col]].rename(columns={name_col: 'state', edu_col: 'bachelor_pct'})\n",
    "edu['bachelor_pct'] = pd.to_numeric(edu['bachelor_pct'], errors='coerce')\n",
    "edu = edu.dropna(subset=['bachelor_pct'])\n",
    "edu['state'] = edu['state'].str.strip().str.title()\n",
    "\n",
    "edu = edu.reset_index(drop=True)\n",
    "print(edu.head(), edu.shape)\n"
   ]
  },
  {
   "cell_type": "code",
   "execution_count": 45,
   "id": "6cfc5691",
   "metadata": {},
   "outputs": [
    {
     "name": "stdout",
     "output_type": "stream",
     "text": [
      "        state  total_benefits    persons  benefits_per_person  median_income  \\\n",
      "0      Alaska    2.418148e+07    66377.0           364.305091        95665.0   \n",
      "1     Arizona    1.617056e+08   887253.0           182.254218        81486.0   \n",
      "2    Arkansas    4.143439e+07   239748.0           172.824762        62106.0   \n",
      "3  California    1.045311e+09  5494318.0           190.253036       100149.0   \n",
      "4    Colorado    1.204934e+08   614843.0           195.974270        97113.0   \n",
      "\n",
      "   bachelor_pct  \n",
      "0          32.8  \n",
      "1          34.7  \n",
      "2          27.1  \n",
      "3          38.1  \n",
      "4          47.8  \n"
     ]
    }
   ],
   "source": [
    "snap_edu = snap_income.merge(edu, on='state', how='inner')\n",
    "print(snap_edu.head())\n"
   ]
  },
  {
   "cell_type": "code",
   "execution_count": 46,
   "id": "f2642628",
   "metadata": {},
   "outputs": [
    {
     "name": "stdout",
     "output_type": "stream",
     "text": [
      "                     benefits_per_person  median_income  bachelor_pct\n",
      "benefits_per_person             1.000000       0.358678      0.091154\n",
      "median_income                   0.358678       1.000000      0.830366\n",
      "bachelor_pct                    0.091154       0.830366      1.000000\n"
     ]
    }
   ],
   "source": [
    "print(snap_edu[['benefits_per_person', 'median_income', 'bachelor_pct']].corr())\n"
   ]
  },
  {
   "cell_type": "code",
   "execution_count": 47,
   "id": "b2508f61",
   "metadata": {},
   "outputs": [
    {
     "data": {
      "image/png": "[encoded data removed]",
      "text/plain": [
       "<Figure size 800x600 with 1 Axes>"
      ]
     },
     "metadata": {},
     "output_type": "display_data"
    }
   ],
   "source": [
    "import matplotlib.pyplot as plt\n",
    "\n",
    "plt.figure(figsize=(8,6))\n",
    "plt.scatter(snap_edu['bachelor_pct'], snap_edu['benefits_per_person'])\n",
    "plt.title('SNAP Benefits per Person vs % Bachelor\\'s Degree or Higher (2024)')\n",
    "plt.xlabel('% Bachelor\\'s Degree or Higher')\n",
    "plt.ylabel('Benefits per Person ($)')\n",
    "plt.grid(True)\n",
    "plt.tight_layout()\n",
    "plt.show()\n"
   ]
  },
  {
   "cell_type": "code",
   "execution_count": 54,
   "id": "2bcdcfc1",
   "metadata": {},
   "outputs": [
    {
     "name": "stdout",
     "output_type": "stream",
     "text": [
      "        state   total_pop   white_pop  black_pop  native_pop  asian_pop  \\\n",
      "1     Alabama   5157699.0   3301529.0  1302107.0     25582.0    79589.0   \n",
      "2      Alaska    740133.0    434520.0    18548.0    104023.0    44077.0   \n",
      "3     Arizona   7582384.0   4345673.0   360868.0    304625.0   302736.0   \n",
      "4    Arkansas   3088354.0   2105944.0   437805.0     16956.0    55184.0   \n",
      "5  California  39431263.0  15013785.0  2110721.0    560852.0  6349574.0   \n",
      "\n",
      "   pacific_pop  other_pop  two_plus_pop  white_pct  black_pct  native_pct  \\\n",
      "1       5771.0   128575.0      314546.0  64.011665  25.245890    0.495996   \n",
      "2      12648.0    15526.0      110791.0  58.708367   2.506036   14.054636   \n",
      "3      13619.0   707919.0     1546944.0  57.312753   4.759295    4.017536   \n",
      "4      11756.0    96607.0      364102.0  68.189851  14.175998    0.549030   \n",
      "5     155816.0  7433192.0     7807323.0  38.075841   5.352912    1.422354   \n",
      "\n",
      "   asian_pct  pacific_pct  other_pct  two_plus_pct  \n",
      "1   1.543111     0.111891   2.492875      6.098572  \n",
      "2   5.955281     1.708882   2.097731     14.969066  \n",
      "3   3.992623     0.179614   9.336364     20.401816  \n",
      "4   1.786842     0.380656   3.128106     11.789516  \n",
      "5  16.102893     0.395159  18.851012     19.799830  \n"
     ]
    }
   ],
   "source": [
    "# Load ACS Race Data\n",
    "race_raw = pd.read_csv('ACSDT1Y2024.B02001-Data.csv', dtype=str)\n",
    "\n",
    "# Identify state column\n",
    "name_col = next(c for c in ['NAME', 'Geography', 'name', 'geography'] if c in race_raw.columns)\n",
    "\n",
    "# Map column IDs to race names\n",
    "race_vars = {\n",
    "    'B02001_001E': 'total_pop',\n",
    "    'B02001_002E': 'white_pop',\n",
    "    'B02001_003E': 'black_pop',\n",
    "    'B02001_004E': 'native_pop',\n",
    "    'B02001_005E': 'asian_pop',\n",
    "    'B02001_006E': 'pacific_pop',\n",
    "    'B02001_007E': 'other_pop',\n",
    "    'B02001_008E': 'two_plus_pop'\n",
    "}\n",
    "\n",
    "# Select and rename columns\n",
    "cols_to_keep = [name_col] + list(race_vars.keys())\n",
    "race = race_raw[cols_to_keep].rename(columns={**{name_col: 'state'}, **race_vars})\n",
    "\n",
    "# Convert numeric\n",
    "for col in race_vars.values():\n",
    "    race[col] = pd.to_numeric(race[col], errors='coerce')\n",
    "\n",
    "# Drop rows with missing total pop\n",
    "race = race.dropna(subset=['total_pop'])\n",
    "\n",
    "# Compute percentages for each race\n",
    "for race_col in race_vars.values():\n",
    "    if race_col != 'total_pop':\n",
    "        pct_col = race_col.replace('_pop', '_pct')\n",
    "        race[pct_col] = (race[race_col] / race['total_pop']) * 100\n",
    "\n",
    "# Clean state names\n",
    "race['state'] = race['state'].str.strip().str.title()\n",
    "\n",
    "print(race.head())\n"
   ]
  },
  {
   "cell_type": "code",
   "execution_count": 55,
   "id": "3d32de97",
   "metadata": {},
   "outputs": [
    {
     "name": "stdout",
     "output_type": "stream",
     "text": [
      "        state  total_benefits    persons  benefits_per_person  median_income  \\\n",
      "0      Alaska    2.418148e+07    66377.0           364.305091        95665.0   \n",
      "1     Arizona    1.617056e+08   887253.0           182.254218        81486.0   \n",
      "2    Arkansas    4.143439e+07   239748.0           172.824762        62106.0   \n",
      "3  California    1.045311e+09  5494318.0           190.253036       100149.0   \n",
      "4    Colorado    1.204934e+08   614843.0           195.974270        97113.0   \n",
      "\n",
      "   bachelor_pct  white_pct  black_pct  native_pct  asian_pct  pacific_pct  \\\n",
      "0          32.8  58.708367   2.506036   14.054636   5.955281     1.708882   \n",
      "1          34.7  57.312753   4.759295    4.017536   3.992623     0.179614   \n",
      "2          27.1  68.189851  14.175998    0.549030   1.786842     0.380656   \n",
      "3          38.1  38.075841   5.352912    1.422354  16.102893     0.395159   \n",
      "4          47.8  69.359885   4.251234    1.173430   3.483445     0.166177   \n",
      "\n",
      "   other_pct  two_plus_pct  \n",
      "0   2.097731     14.969066  \n",
      "1   9.336364     20.401816  \n",
      "2   3.128106     11.789516  \n",
      "3  18.851012     19.799830  \n",
      "4   6.323011     15.242819  \n"
     ]
    }
   ],
   "source": [
    "snap_full = snap_edu.merge(\n",
    "    race[['state', 'white_pct', 'black_pct', 'native_pct', 'asian_pct', 'pacific_pct', 'other_pct', 'two_plus_pct']],\n",
    "    on='state',\n",
    "    how='inner'\n",
    ")\n",
    "print(snap_full.head())\n"
   ]
  },
  {
   "cell_type": "code",
   "execution_count": 56,
   "id": "7edba7d5",
   "metadata": {},
   "outputs": [
    {
     "name": "stdout",
     "output_type": "stream",
     "text": [
      "benefits_per_person    1.000000\n",
      "pacific_pct            0.751569\n",
      "asian_pct              0.627280\n",
      "two_plus_pct           0.403368\n",
      "native_pct             0.393638\n",
      "median_income          0.358678\n",
      "bachelor_pct           0.091154\n",
      "total_benefits        -0.024533\n",
      "persons               -0.063944\n",
      "other_pct             -0.069729\n",
      "black_pct             -0.146183\n",
      "white_pct             -0.419196\n",
      "Name: benefits_per_person, dtype: float64\n"
     ]
    }
   ],
   "source": [
    "corr_matrix = snap_full.corr(numeric_only=True)\n",
    "print(corr_matrix['benefits_per_person'].sort_values(ascending=False))\n"
   ]
  },
  {
   "cell_type": "code",
   "execution_count": 59,
   "id": "b1cd073d",
   "metadata": {},
   "outputs": [
    {
     "data": {
      "image/png": "[encoded data removed]",
      "text/plain": [
       "<Figure size 1000x600 with 1 Axes>"
      ]
     },
     "metadata": {},
     "output_type": "display_data"
    }
   ],
   "source": [
    "import matplotlib.pyplot as plt\n",
    "\n",
    "race_cols = ['white_pct', 'black_pct', 'asian_pct', 'pacific_pct', \n",
    "             'native_pct', 'other_pct', 'two_plus_pct']\n",
    "\n",
    "# Compute correlations with benefits_per_person\n",
    "race_corr = snap_full[race_cols + ['benefits_per_person']].corr()['benefits_per_person'].drop('benefits_per_person')\n",
    "\n",
    "plt.figure(figsize=(10,6))\n",
    "race_corr.sort_values().plot(kind='barh', color='steelblue')\n",
    "plt.title('Correlation between Race Percentage and SNAP Benefits per Person (2024)')\n",
    "plt.xlabel('Correlation Coefficient')\n",
    "plt.axvline(0, color='black', linewidth=1)\n",
    "plt.tight_layout()\n",
    "plt.show()\n"
   ]
  },
  {
   "cell_type": "code",
   "execution_count": 58,
   "id": "aa80aaa1",
   "metadata": {},
   "outputs": [
    {
     "name": "stdout",
     "output_type": "stream",
     "text": [
      "                             OLS Regression Results                            \n",
      "===============================================================================\n",
      "Dep. Variable:     benefits_per_person   R-squared:                       0.760\n",
      "Model:                             OLS   Adj. R-squared:                  0.711\n",
      "Method:                  Least Squares   F-statistic:                     15.79\n",
      "Date:                 Fri, 24 Oct 2025   Prob (F-statistic):           3.39e-10\n",
      "Time:                         23:28:14   Log-Likelihood:                -212.03\n",
      "No. Observations:                   49   AIC:                             442.1\n",
      "Df Residuals:                       40   BIC:                             459.1\n",
      "Df Model:                            8                                         \n",
      "Covariance Type:             nonrobust                                         \n",
      "=================================================================================\n",
      "                    coef    std err          t      P>|t|      [0.025      0.975]\n",
      "---------------------------------------------------------------------------------\n",
      "const            79.4293    190.235      0.418      0.679    -305.049     463.908\n",
      "median_income     0.0008      0.001      1.440      0.158      -0.000       0.002\n",
      "bachelor_pct     -0.1529      1.145     -0.134      0.894      -2.466       2.160\n",
      "white_pct         0.3686      1.858      0.198      0.844      -3.387       4.124\n",
      "black_pct         1.0565      1.902      0.555      0.582      -2.787       4.900\n",
      "asian_pct         0.1674      3.476      0.048      0.962      -6.858       7.193\n",
      "pacific_pct      21.4839      6.984      3.076      0.004       7.369      35.599\n",
      "native_pct        6.5682      2.221      2.957      0.005       2.079      11.057\n",
      "two_plus_pct     -0.4813      2.851     -0.169      0.867      -6.243       5.280\n",
      "==============================================================================\n",
      "Omnibus:                        7.867   Durbin-Watson:                   2.207\n",
      "Prob(Omnibus):                  0.020   Jarque-Bera (JB):                7.225\n",
      "Skew:                           0.712   Prob(JB):                       0.0270\n",
      "Kurtosis:                       4.228   Cond. No.                     5.39e+06\n",
      "==============================================================================\n",
      "\n",
      "Notes:\n",
      "[1] Standard Errors assume that the covariance matrix of the errors is correctly specified.\n",
      "[2] The condition number is large, 5.39e+06. This might indicate that there are\n",
      "strong multicollinearity or other numerical problems.\n"
     ]
    }
   ],
   "source": [
    "import statsmodels.api as sm\n",
    "\n",
    "X = snap_full[['median_income', 'bachelor_pct', 'white_pct', 'black_pct', \n",
    "               'asian_pct', 'pacific_pct', 'native_pct', 'two_plus_pct']]\n",
    "X = sm.add_constant(X)\n",
    "y = snap_full['benefits_per_person']\n",
    "\n",
    "model = sm.OLS(y, X).fit()\n",
    "print(model.summary())\n"
   ]
  },
  {
   "cell_type": "markdown",
   "id": "838392a1",
   "metadata": {},
   "source": [
    "### Demographic Correlations with SNAP Benefits\n",
    "\n",
    "Analyzing racial composition by state revealed strong associations between demographic structure and SNAP benefit levels.\n",
    "\n",
    "- **Pacific Islander % (r = 0.75)** and **Asian % (r = 0.63)** show the strongest positive correlations with per-person benefit amounts, reflecting their concentration in high cost-of-living states such as Hawaii, California, and Alaska.\n",
    "- **White % (r = -0.42)** shows a moderate negative relationship, aligning with lower benefit levels in predominantly white, lower-cost rural states.\n",
    "- Other racial groups exhibit moderate to weak correlations, consistent with geographic distribution patterns.\n",
    "- **Income** (r = 0.36) and **education** (r = 0.09) show weaker linear associations, emphasizing that **geography and demographic structure matter more** for benefit levels than income alone.\n",
    "\n",
    "These patterns suggest that **demographic and geographic factors are central to understanding SNAP benefit disparities**, which aligns with policy mechanisms such as cost-of-living adjustments.\n"
   ]
  },
  {
   "cell_type": "code",
   "execution_count": 60,
   "id": "760fc1d1",
   "metadata": {},
   "outputs": [
    {
     "name": "stdout",
     "output_type": "stream",
     "text": [
      "   rank          state  coli  grocery  housing  utilities  transportation  \\\n",
      "0     1       Oklahoma  86.0     95.3     70.7       95.4            89.6   \n",
      "1     2    Mississippi  87.3     96.3     72.8       88.9            89.2   \n",
      "2     3  West Virginia  88.3     96.7     71.5       93.2            96.6   \n",
      "3     4        Alabama  88.6     97.7     70.8       99.6            91.1   \n",
      "4     5         Kansas  88.8     95.5     76.1       98.9            91.3   \n",
      "\n",
      "   health  misc  \n",
      "0    94.0  90.2  \n",
      "1    96.8  93.0  \n",
      "2    93.4  94.5  \n",
      "3    91.0  95.6  \n",
      "4    96.3  92.2  \n"
     ]
    }
   ],
   "source": [
    "# Load COLI data\n",
    "coli = pd.read_csv('cost_of_living_index.csv')\n",
    "\n",
    "# Clean column names\n",
    "coli.columns = coli.columns.str.strip().str.lower().str.replace(' ', '_')\n",
    "\n",
    "# Remove any national average row\n",
    "coli = coli[~coli['rank'].astype(str).str.contains('\\*\\*', na=False)]\n",
    "\n",
    "# Keep the columns we want\n",
    "coli = coli.rename(columns={'state': 'state', 'index': 'coli'})\n",
    "\n",
    "# Convert COLI to numeric\n",
    "coli['coli'] = coli['coli'].astype(float)\n",
    "coli['state'] = coli['state'].str.strip().str.title()\n",
    "\n",
    "print(coli.head())\n"
   ]
  },
  {
   "cell_type": "code",
   "execution_count": 61,
   "id": "07fa19bc",
   "metadata": {},
   "outputs": [
    {
     "name": "stdout",
     "output_type": "stream",
     "text": [
      "        state  total_benefits    persons  benefits_per_person  median_income  \\\n",
      "0      Alaska    2.418148e+07    66377.0           364.305091        95665.0   \n",
      "1     Arizona    1.617056e+08   887253.0           182.254218        81486.0   \n",
      "2    Arkansas    4.143439e+07   239748.0           172.824762        62106.0   \n",
      "3  California    1.045311e+09  5494318.0           190.253036       100149.0   \n",
      "4    Colorado    1.204934e+08   614843.0           195.974270        97113.0   \n",
      "\n",
      "   bachelor_pct  white_pct  black_pct  native_pct  asian_pct  pacific_pct  \\\n",
      "0          32.8  58.708367   2.506036   14.054636   5.955281     1.708882   \n",
      "1          34.7  57.312753   4.759295    4.017536   3.992623     0.179614   \n",
      "2          27.1  68.189851  14.175998    0.549030   1.786842     0.380656   \n",
      "3          38.1  38.075841   5.352912    1.422354  16.102893     0.395159   \n",
      "4          47.8  69.359885   4.251234    1.173430   3.483445     0.166177   \n",
      "\n",
      "   other_pct  two_plus_pct   coli  \n",
      "0   2.097731     14.969066  124.9  \n",
      "1   9.336364     20.401816  110.7  \n",
      "2   3.128106     11.789516   89.6  \n",
      "3  18.851012     19.799830  142.3  \n",
      "4   6.323011     15.242819  102.7  \n"
     ]
    }
   ],
   "source": [
    "snap_full = snap_full.merge(coli[['state', 'coli']], on='state', how='left')\n",
    "print(snap_full.head())\n"
   ]
  },
  {
   "cell_type": "code",
   "execution_count": 62,
   "id": "0fe985e3",
   "metadata": {},
   "outputs": [
    {
     "name": "stdout",
     "output_type": "stream",
     "text": [
      "                     benefits_per_person      coli\n",
      "benefits_per_person             1.000000  0.674391\n",
      "coli                            0.674391  1.000000\n"
     ]
    }
   ],
   "source": [
    "print(snap_full[['benefits_per_person', 'coli']].corr())\n"
   ]
  },
  {
   "cell_type": "code",
   "execution_count": 74,
   "id": "0ea5a999",
   "metadata": {},
   "outputs": [
    {
     "name": "stdout",
     "output_type": "stream",
     "text": [
      "        state   coli state_code\n",
      "0      Alaska 124.90         AK\n",
      "1     Arizona 110.70         AZ\n",
      "2    Arkansas  89.60         AR\n",
      "3  California 142.30         CA\n",
      "4    Colorado 102.70         CO\n"
     ]
    }
   ],
   "source": [
    "# Extract only the COLI data from your merged dataset\n",
    "coli_df = snap_full[['state', 'coli']].copy()\n",
    "\n",
    "# Map full state names to their postal abbreviations\n",
    "state_abbrev = {\n",
    "    'Alabama': 'AL', 'Alaska': 'AK', 'Arizona': 'AZ', 'Arkansas': 'AR', 'California': 'CA',\n",
    "    'Colorado': 'CO', 'Connecticut': 'CT', 'Delaware': 'DE', 'District of Columbia': 'DC',\n",
    "    'Florida': 'FL', 'Georgia': 'GA', 'Hawaii': 'HI', 'Idaho': 'ID', 'Illinois': 'IL',\n",
    "    'Indiana': 'IN', 'Iowa': 'IA', 'Kansas': 'KS', 'Kentucky': 'KY', 'Louisiana': 'LA',\n",
    "    'Maine': 'ME', 'Maryland': 'MD', 'Massachusetts': 'MA', 'Michigan': 'MI', 'Minnesota': 'MN',\n",
    "    'Mississippi': 'MS', 'Missouri': 'MO', 'Montana': 'MT', 'Nebraska': 'NE', 'Nevada': 'NV',\n",
    "    'New Hampshire': 'NH', 'New Jersey': 'NJ', 'New Mexico': 'NM', 'New York': 'NY',\n",
    "    'North Carolina': 'NC', 'North Dakota': 'ND', 'Ohio': 'OH', 'Oklahoma': 'OK',\n",
    "    'Oregon': 'OR', 'Pennsylvania': 'PA', 'Rhode Island': 'RI', 'South Carolina': 'SC',\n",
    "    'South Dakota': 'SD', 'Tennessee': 'TN', 'Texas': 'TX', 'Utah': 'UT', 'Vermont': 'VT',\n",
    "    'Virginia': 'VA', 'Washington': 'WA', 'West Virginia': 'WV', 'Wisconsin': 'WI', 'Wyoming': 'WY'\n",
    "}\n",
    "\n",
    "coli_df['state_code'] = coli_df['state'].map(state_abbrev)\n",
    "\n",
    "# Drop any rows with missing state codes (e.g., territories like Puerto Rico)\n",
    "coli_df = coli_df.dropna(subset=['state_code'])\n",
    "\n",
    "print(coli_df.head())\n"
   ]
  },
  {
   "cell_type": "code",
   "execution_count": 76,
   "id": "93634997",
   "metadata": {},
   "outputs": [
    {
     "data": {
      "application/vnd.plotly.v1+json": {
       "config": {
        "plotlyServerURL": "https://plot.ly"
       },
       "data": [
        {
         "coloraxis": "coloraxis",
         "geo": "geo",
         "hovertemplate": "state_code=%{location}<br>coli=%{z}<extra></extra>",
         "locationmode": "USA-states",
         "locations": [
          "AK",
          "AZ",
          "AR",
          "CA",
          "CO",
          "CT",
          "DE",
          "FL",
          "GA",
          "HI",
          "ID",
          "IL",
          "IN",
          "IA",
          "KS",
          "KY",
          "LA",
          "ME",
          "MD",
          "MA",
          "MI",
          "MN",
          "MS",
          "MO",
          "MT",
          "NE",
          "NV",
          "NH",
          "NJ",
          "NM",
          "NY",
          "NC",
          "ND",
          "OH",
          "OK",
          "OR",
          "PA",
          "RI",
          "SC",
          "SD",
          "TN",
          "TX",
          "UT",
          "VT",
          "VA",
          "WA",
          "WV",
          "WI",
          "WY"
         ],
         "name": "",
         "type": "choropleth",
         "z": [
          124.9,
          110.7,
          89.6,
          142.3,
          102.7,
          112.7,
          101.9,
          102.2,
          92.5,
          185,
          99.9,
          94.7,
          91,
          89.7,
          88.8,
          92.5,
          92.3,
          113,
          115.4,
          141.2,
          90.1,
          94.6,
          87.3,
          89,
          95.5,
          92.6,
          100.2,
          111.4,
          115.1,
          93.7,
          125.1,
          97.8,
          91.4,
          94.3,
          86,
          111.8,
          97.2,
          110.6,
          94.7,
          91.9,
          90.3,
          92.1,
          102.2,
          113.6,
          100.8,
          114.1,
          88.3,
          97.7,
          93.7
         ]
        }
       ],
       "layout": {
        "coloraxis": {
         "colorbar": {
          "title": {
           "text": "coli"
          }
         },
         "colorscale": [
          [
           0,
           "rgb(255,245,240)"
          ],
          [
           0.125,
           "rgb(254,224,210)"
          ],
          [
           0.25,
           "rgb(252,187,161)"
          ],
          [
           0.375,
           "rgb(252,146,114)"
          ],
          [
           0.5,
           "rgb(251,106,74)"
          ],
          [
           0.625,
           "rgb(239,59,44)"
          ],
          [
           0.75,
           "rgb(203,24,29)"
          ],
          [
           0.875,
           "rgb(165,15,21)"
          ],
          [
           1,
           "rgb(103,0,13)"
          ]
         ]
        },
        "geo": {
         "bgcolor": "rgba(0,0,0,0)",
         "center": {},
         "domain": {
          "x": [
           0,
           1
          ],
          "y": [
           0,
           1
          ]
         },
         "scope": "usa"
        },
        "legend": {
         "tracegroupgap": 0
        },
        "template": {
         "data": {
          "bar": [
           {
            "error_x": {
             "color": "#2a3f5f"
            },
            "error_y": {
             "color": "#2a3f5f"
            },
            "marker": {
             "line": {
              "color": "#E5ECF6",
              "width": 0.5
             },
             "pattern": {
              "fillmode": "overlay",
              "size": 10,
              "solidity": 0.2
             }
            },
            "type": "bar"
           }
          ],
          "barpolar": [
           {
            "marker": {
             "line": {
              "color": "#E5ECF6",
              "width": 0.5
             },
             "pattern": {
              "fillmode": "overlay",
              "size": 10,
              "solidity": 0.2
             }
            },
            "type": "barpolar"
           }
          ],
          "carpet": [
           {
            "aaxis": {
             "endlinecolor": "#2a3f5f",
             "gridcolor": "white",
             "linecolor": "white",
             "minorgridcolor": "white",
             "startlinecolor": "#2a3f5f"
            },
            "baxis": {
             "endlinecolor": "#2a3f5f",
             "gridcolor": "white",
             "linecolor": "white",
             "minorgridcolor": "white",
             "startlinecolor": "#2a3f5f"
            },
            "type": "carpet"
           }
          ],
          "choropleth": [
           {
            "colorbar": {
             "outlinewidth": 0,
             "ticks": ""
            },
            "type": "choropleth"
           }
          ],
          "contour": [
           {
            "colorbar": {
             "outlinewidth": 0,
             "ticks": ""
            },
            "colorscale": [
             [
              0,
              "#0d0887"
             ],
             [
              0.1111111111111111,
              "#46039f"
             ],
             [
              0.2222222222222222,
              "#7201a8"
             ],
             [
              0.3333333333333333,
              "#9c179e"
             ],
             [
              0.4444444444444444,
              "#bd3786"
             ],
             [
              0.5555555555555556,
              "#d8576b"
             ],
             [
              0.6666666666666666,
              "#ed7953"
             ],
             [
              0.7777777777777778,
              "#fb9f3a"
             ],
             [
              0.8888888888888888,
              "#fdca26"
             ],
             [
              1,
              "#f0f921"
             ]
            ],
            "type": "contour"
           }
          ],
          "contourcarpet": [
           {
            "colorbar": {
             "outlinewidth": 0,
             "ticks": ""
            },
            "type": "contourcarpet"
           }
          ],
          "heatmap": [
           {
            "colorbar": {
             "outlinewidth": 0,
             "ticks": ""
            },
            "colorscale": [
             [
              0,
              "#0d0887"
             ],
             [
              0.1111111111111111,
              "#46039f"
             ],
             [
              0.2222222222222222,
              "#7201a8"
             ],
             [
              0.3333333333333333,
              "#9c179e"
             ],
             [
              0.4444444444444444,
              "#bd3786"
             ],
             [
              0.5555555555555556,
              "#d8576b"
             ],
             [
              0.6666666666666666,
              "#ed7953"
             ],
             [
              0.7777777777777778,
              "#fb9f3a"
             ],
             [
              0.8888888888888888,
              "#fdca26"
             ],
             [
              1,
              "#f0f921"
             ]
            ],
            "type": "heatmap"
           }
          ],
          "heatmapgl": [
           {
            "colorbar": {
             "outlinewidth": 0,
             "ticks": ""
            },
            "colorscale": [
             [
              0,
              "#0d0887"
             ],
             [
              0.1111111111111111,
              "#46039f"
             ],
             [
              0.2222222222222222,
              "#7201a8"
             ],
             [
              0.3333333333333333,
              "#9c179e"
             ],
             [
              0.4444444444444444,
              "#bd3786"
             ],
             [
              0.5555555555555556,
              "#d8576b"
             ],
             [
              0.6666666666666666,
              "#ed7953"
             ],
             [
              0.7777777777777778,
              "#fb9f3a"
             ],
             [
              0.8888888888888888,
              "#fdca26"
             ],
             [
              1,
              "#f0f921"
             ]
            ],
            "type": "heatmapgl"
           }
          ],
          "histogram": [
           {
            "marker": {
             "pattern": {
              "fillmode": "overlay",
              "size": 10,
              "solidity": 0.2
             }
            },
            "type": "histogram"
           }
          ],
          "histogram2d": [
           {
            "colorbar": {
             "outlinewidth": 0,
             "ticks": ""
            },
            "colorscale": [
             [
              0,
              "#0d0887"
             ],
             [
              0.1111111111111111,
              "#46039f"
             ],
             [
              0.2222222222222222,
              "#7201a8"
             ],
             [
              0.3333333333333333,
              "#9c179e"
             ],
             [
              0.4444444444444444,
              "#bd3786"
             ],
             [
              0.5555555555555556,
              "#d8576b"
             ],
             [
              0.6666666666666666,
              "#ed7953"
             ],
             [
              0.7777777777777778,
              "#fb9f3a"
             ],
             [
              0.8888888888888888,
              "#fdca26"
             ],
             [
              1,
              "#f0f921"
             ]
            ],
            "type": "histogram2d"
           }
          ],
          "histogram2dcontour": [
           {
            "colorbar": {
             "outlinewidth": 0,
             "ticks": ""
            },
            "colorscale": [
             [
              0,
              "#0d0887"
             ],
             [
              0.1111111111111111,
              "#46039f"
             ],
             [
              0.2222222222222222,
              "#7201a8"
             ],
             [
              0.3333333333333333,
              "#9c179e"
             ],
             [
              0.4444444444444444,
              "#bd3786"
             ],
             [
              0.5555555555555556,
              "#d8576b"
             ],
             [
              0.6666666666666666,
              "#ed7953"
             ],
             [
              0.7777777777777778,
              "#fb9f3a"
             ],
             [
              0.8888888888888888,
              "#fdca26"
             ],
             [
              1,
              "#f0f921"
             ]
            ],
            "type": "histogram2dcontour"
           }
          ],
          "mesh3d": [
           {
            "colorbar": {
             "outlinewidth": 0,
             "ticks": ""
            },
            "type": "mesh3d"
           }
          ],
          "parcoords": [
           {
            "line": {
             "colorbar": {
              "outlinewidth": 0,
              "ticks": ""
             }
            },
            "type": "parcoords"
           }
          ],
          "pie": [
           {
            "automargin": true,
            "type": "pie"
           }
          ],
          "scatter": [
           {
            "fillpattern": {
             "fillmode": "overlay",
             "size": 10,
             "solidity": 0.2
            },
            "type": "scatter"
           }
          ],
          "scatter3d": [
           {
            "line": {
             "colorbar": {
              "outlinewidth": 0,
              "ticks": ""
             }
            },
            "marker": {
             "colorbar": {
              "outlinewidth": 0,
              "ticks": ""
             }
            },
            "type": "scatter3d"
           }
          ],
          "scattercarpet": [
           {
            "marker": {
             "colorbar": {
              "outlinewidth": 0,
              "ticks": ""
             }
            },
            "type": "scattercarpet"
           }
          ],
          "scattergeo": [
           {
            "marker": {
             "colorbar": {
              "outlinewidth": 0,
              "ticks": ""
             }
            },
            "type": "scattergeo"
           }
          ],
          "scattergl": [
           {
            "marker": {
             "colorbar": {
              "outlinewidth": 0,
              "ticks": ""
             }
            },
            "type": "scattergl"
           }
          ],
          "scattermapbox": [
           {
            "marker": {
             "colorbar": {
              "outlinewidth": 0,
              "ticks": ""
             }
            },
            "type": "scattermapbox"
           }
          ],
          "scatterpolar": [
           {
            "marker": {
             "colorbar": {
              "outlinewidth": 0,
              "ticks": ""
             }
            },
            "type": "scatterpolar"
           }
          ],
          "scatterpolargl": [
           {
            "marker": {
             "colorbar": {
              "outlinewidth": 0,
              "ticks": ""
             }
            },
            "type": "scatterpolargl"
           }
          ],
          "scatterternary": [
           {
            "marker": {
             "colorbar": {
              "outlinewidth": 0,
              "ticks": ""
             }
            },
            "type": "scatterternary"
           }
          ],
          "surface": [
           {
            "colorbar": {
             "outlinewidth": 0,
             "ticks": ""
            },
            "colorscale": [
             [
              0,
              "#0d0887"
             ],
             [
              0.1111111111111111,
              "#46039f"
             ],
             [
              0.2222222222222222,
              "#7201a8"
             ],
             [
              0.3333333333333333,
              "#9c179e"
             ],
             [
              0.4444444444444444,
              "#bd3786"
             ],
             [
              0.5555555555555556,
              "#d8576b"
             ],
             [
              0.6666666666666666,
              "#ed7953"
             ],
             [
              0.7777777777777778,
              "#fb9f3a"
             ],
             [
              0.8888888888888888,
              "#fdca26"
             ],
             [
              1,
              "#f0f921"
             ]
            ],
            "type": "surface"
           }
          ],
          "table": [
           {
            "cells": {
             "fill": {
              "color": "#EBF0F8"
             },
             "line": {
              "color": "white"
             }
            },
            "header": {
             "fill": {
              "color": "#C8D4E3"
             },
             "line": {
              "color": "white"
             }
            },
            "type": "table"
           }
          ]
         },
         "layout": {
          "annotationdefaults": {
           "arrowcolor": "#2a3f5f",
           "arrowhead": 0,
           "arrowwidth": 1
          },
          "autotypenumbers": "strict",
          "coloraxis": {
           "colorbar": {
            "outlinewidth": 0,
            "ticks": ""
           }
          },
          "colorscale": {
           "diverging": [
            [
             0,
             "#8e0152"
            ],
            [
             0.1,
             "#c51b7d"
            ],
            [
             0.2,
             "#de77ae"
            ],
            [
             0.3,
             "#f1b6da"
            ],
            [
             0.4,
             "#fde0ef"
            ],
            [
             0.5,
             "#f7f7f7"
            ],
            [
             0.6,
             "#e6f5d0"
            ],
            [
             0.7,
             "#b8e186"
            ],
            [
             0.8,
             "#7fbc41"
            ],
            [
             0.9,
             "#4d9221"
            ],
            [
             1,
             "#276419"
            ]
           ],
           "sequential": [
            [
             0,
             "#0d0887"
            ],
            [
             0.1111111111111111,
             "#46039f"
            ],
            [
             0.2222222222222222,
             "#7201a8"
            ],
            [
             0.3333333333333333,
             "#9c179e"
            ],
            [
             0.4444444444444444,
             "#bd3786"
            ],
            [
             0.5555555555555556,
             "#d8576b"
            ],
            [
             0.6666666666666666,
             "#ed7953"
            ],
            [
             0.7777777777777778,
             "#fb9f3a"
            ],
            [
             0.8888888888888888,
             "#fdca26"
            ],
            [
             1,
             "#f0f921"
            ]
           ],
           "sequentialminus": [
            [
             0,
             "#0d0887"
            ],
            [
             0.1111111111111111,
             "#46039f"
            ],
            [
             0.2222222222222222,
             "#7201a8"
            ],
            [
             0.3333333333333333,
             "#9c179e"
            ],
            [
             0.4444444444444444,
             "#bd3786"
            ],
            [
             0.5555555555555556,
             "#d8576b"
            ],
            [
             0.6666666666666666,
             "#ed7953"
            ],
            [
             0.7777777777777778,
             "#fb9f3a"
            ],
            [
             0.8888888888888888,
             "#fdca26"
            ],
            [
             1,
             "#f0f921"
            ]
           ]
          },
          "colorway": [
           "#636efa",
           "#EF553B",
           "#00cc96",
           "#ab63fa",
           "#FFA15A",
           "#19d3f3",
           "#FF6692",
           "#B6E880",
           "#FF97FF",
           "#FECB52"
          ],
          "font": {
           "color": "#2a3f5f"
          },
          "geo": {
           "bgcolor": "white",
           "lakecolor": "white",
           "landcolor": "#E5ECF6",
           "showlakes": true,
           "showland": true,
           "subunitcolor": "white"
          },
          "hoverlabel": {
           "align": "left"
          },
          "hovermode": "closest",
          "mapbox": {
           "style": "light"
          },
          "paper_bgcolor": "white",
          "plot_bgcolor": "#E5ECF6",
          "polar": {
           "angularaxis": {
            "gridcolor": "white",
            "linecolor": "white",
            "ticks": ""
           },
           "bgcolor": "#E5ECF6",
           "radialaxis": {
            "gridcolor": "white",
            "linecolor": "white",
            "ticks": ""
           }
          },
          "scene": {
           "xaxis": {
            "backgroundcolor": "#E5ECF6",
            "gridcolor": "white",
            "gridwidth": 2,
            "linecolor": "white",
            "showbackground": true,
            "ticks": "",
            "zerolinecolor": "white"
           },
           "yaxis": {
            "backgroundcolor": "#E5ECF6",
            "gridcolor": "white",
            "gridwidth": 2,
            "linecolor": "white",
            "showbackground": true,
            "ticks": "",
            "zerolinecolor": "white"
           },
           "zaxis": {
            "backgroundcolor": "#E5ECF6",
            "gridcolor": "white",
            "gridwidth": 2,
            "linecolor": "white",
            "showbackground": true,
            "ticks": "",
            "zerolinecolor": "white"
           }
          },
          "shapedefaults": {
           "line": {
            "color": "#2a3f5f"
           }
          },
          "ternary": {
           "aaxis": {
            "gridcolor": "white",
            "linecolor": "white",
            "ticks": ""
           },
           "baxis": {
            "gridcolor": "white",
            "linecolor": "white",
            "ticks": ""
           },
           "bgcolor": "#E5ECF6",
           "caxis": {
            "gridcolor": "white",
            "linecolor": "white",
            "ticks": ""
           }
          },
          "title": {
           "x": 0.05
          },
          "xaxis": {
           "automargin": true,
           "gridcolor": "white",
           "linecolor": "white",
           "ticks": "",
           "title": {
            "standoff": 15
           },
           "zerolinecolor": "white",
           "zerolinewidth": 2
          },
          "yaxis": {
           "automargin": true,
           "gridcolor": "white",
           "linecolor": "white",
           "ticks": "",
           "title": {
            "standoff": 15
           },
           "zerolinecolor": "white",
           "zerolinewidth": 2
          }
         }
        },
        "title": {
         "text": "Cost of Living Index by State"
        }
       }
      }
     },
     "metadata": {},
     "output_type": "display_data"
    }
   ],
   "source": [
    "import plotly.express as px\n",
    "\n",
    "fig = px.choropleth(\n",
    "    coli_df,\n",
    "    locations='state_code',\n",
    "    locationmode='USA-states',\n",
    "    color='coli',\n",
    "    color_continuous_scale='Reds',\n",
    "    scope='usa',\n",
    "    title='Cost of Living Index by State'\n",
    ")\n",
    "fig.update_layout(geo=dict(bgcolor='rgba(0,0,0,0)'))\n",
    "fig.show()\n"
   ]
  },
  {
   "cell_type": "markdown",
   "id": "59e021f9",
   "metadata": {},
   "source": [
    "### Choropleth Map\n",
    "Below is a static preview for GitHub.\n",
    "For the full interactive version, [click here](./choropleth_map.html).\n",
    "\n",
    "![COLI Choropleth](choropleth_map.png)\n"
   ]
  },
  {
   "cell_type": "markdown",
   "id": "7e5e3988",
   "metadata": {},
   "source": [
    "## Cost of Living Index Findings\n",
    "\n",
    "To better understand how economic factors influence SNAP benefits, we incorporated state-level **Cost of Living Index (COLI)** data, which includes subcomponents for **Housing**, **Groceries**, **Utilities**, **Transportation**, **Health**, and **Miscellaneous** costs.\n",
    "\n",
    "### Key Observations\n",
    "- States with the **highest COLI** include:\n",
    "  - Hawaii (185.0)\n",
    "  - California (142.3)\n",
    "  - Massachusetts (141.2)\n",
    "- States with the **lowest COLI** include:\n",
    "  - Oklahoma (86.0)\n",
    "  - Mississippi (87.3)\n",
    "  - West Virginia (88.3)\n",
    "- The **correlation between COLI and SNAP benefits per person** is approximately **0.67**, indicating a moderately strong positive relationship.\n",
    "- An **OLS regression** including COLI and demographic factors found:\n",
    "  - COLI has a **statistically significant effect** on SNAP benefits per person (p = 0.005).\n",
    "  - Higher living costs are associated with higher benefit allocations.\n",
    "\n",
    "### Implications\n",
    "- Cost of living is a **strong structural factor** in determining benefit distribution across states.\n",
    "- Including COLI enhances the explanatory power of the model and provides a more complete view of **regional disparities** in SNAP benefit allocation.\n",
    "- This variable will be **valuable for future modeling and forecasting**, especially when paired with demographic and socioeconomic data.\n"
   ]
  },
  {
   "cell_type": "code",
   "execution_count": 65,
   "id": "1f9d3473",
   "metadata": {},
   "outputs": [
    {
     "name": "stdout",
     "output_type": "stream",
     "text": [
      "                             OLS Regression Results                            \n",
      "===============================================================================\n",
      "Dep. Variable:     benefits_per_person   R-squared:                       0.804\n",
      "Model:                             OLS   Adj. R-squared:                  0.759\n",
      "Method:                  Least Squares   F-statistic:                     17.78\n",
      "Date:                 Fri, 24 Oct 2025   Prob (F-statistic):           3.14e-11\n",
      "Time:                         23:48:47   Log-Likelihood:                -207.02\n",
      "No. Observations:                   49   AIC:                             434.0\n",
      "Df Residuals:                       39   BIC:                             453.0\n",
      "Df Model:                            9                                         \n",
      "Covariance Type:             nonrobust                                         \n",
      "=================================================================================\n",
      "                    coef    std err          t      P>|t|      [0.025      0.975]\n",
      "---------------------------------------------------------------------------------\n",
      "const           -28.6705    177.666     -0.161      0.873    -388.034     330.693\n",
      "median_income     0.0005      0.001      0.975      0.336      -0.001       0.002\n",
      "bachelor_pct     -0.7571      1.066     -0.710      0.482      -2.913       1.399\n",
      "white_pct         0.9016      1.708      0.528      0.601      -2.554       4.357\n",
      "black_pct         1.7563      1.755      1.001      0.323      -1.793       5.305\n",
      "asian_pct        -0.7245      3.192     -0.227      0.822      -7.181       5.732\n",
      "pacific_pct      17.6070      6.516      2.702      0.010       4.426      30.787\n",
      "native_pct        6.7463      2.031      3.321      0.002       2.637      10.855\n",
      "two_plus_pct      0.3955      2.623      0.151      0.881      -4.910       5.701\n",
      "coli              1.0473      0.352      2.977      0.005       0.336       1.759\n",
      "==============================================================================\n",
      "Omnibus:                        5.226   Durbin-Watson:                   2.144\n",
      "Prob(Omnibus):                  0.073   Jarque-Bera (JB):                4.083\n",
      "Skew:                           0.645   Prob(JB):                        0.130\n",
      "Kurtosis:                       3.580   Cond. No.                     5.51e+06\n",
      "==============================================================================\n",
      "\n",
      "Notes:\n",
      "[1] Standard Errors assume that the covariance matrix of the errors is correctly specified.\n",
      "[2] The condition number is large, 5.51e+06. This might indicate that there are\n",
      "strong multicollinearity or other numerical problems.\n"
     ]
    }
   ],
   "source": [
    "import statsmodels.api as sm\n",
    "\n",
    "X = snap_full[['median_income', 'bachelor_pct', 'white_pct', 'black_pct',\n",
    "               'asian_pct', 'pacific_pct', 'native_pct', 'two_plus_pct', 'coli']]\n",
    "X = sm.add_constant(X)\n",
    "y = snap_full['benefits_per_person']\n",
    "\n",
    "model = sm.OLS(y, X).fit()\n",
    "print(model.summary())\n"
   ]
  },
  {
   "cell_type": "code",
   "execution_count": 69,
   "id": "b9a7e999",
   "metadata": {},
   "outputs": [
    {
     "data": {
      "text/html": [
       "<div>\n",
       "<style scoped>\n",
       "    .dataframe tbody tr th:only-of-type {\n",
       "        vertical-align: middle;\n",
       "    }\n",
       "\n",
       "    .dataframe tbody tr th {\n",
       "        vertical-align: top;\n",
       "    }\n",
       "\n",
       "    .dataframe thead th {\n",
       "        text-align: right;\n",
       "    }\n",
       "</style>\n",
       "<table border=\"1\" class=\"dataframe\">\n",
       "  <thead>\n",
       "    <tr style=\"text-align: right;\">\n",
       "      <th></th>\n",
       "      <th>state</th>\n",
       "      <th>total_benefits</th>\n",
       "      <th>persons</th>\n",
       "      <th>benefits_per_person</th>\n",
       "      <th>median_income</th>\n",
       "      <th>bachelor_pct</th>\n",
       "      <th>white_pct</th>\n",
       "      <th>black_pct</th>\n",
       "      <th>native_pct</th>\n",
       "      <th>asian_pct</th>\n",
       "      <th>pacific_pct</th>\n",
       "      <th>other_pct</th>\n",
       "      <th>two_plus_pct</th>\n",
       "      <th>coli</th>\n",
       "    </tr>\n",
       "  </thead>\n",
       "  <tbody>\n",
       "    <tr>\n",
       "      <th>0</th>\n",
       "      <td>Alaska</td>\n",
       "      <td>24181479.00</td>\n",
       "      <td>66377.00</td>\n",
       "      <td>364.31</td>\n",
       "      <td>95665.00</td>\n",
       "      <td>32.80</td>\n",
       "      <td>58.71</td>\n",
       "      <td>2.51</td>\n",
       "      <td>14.05</td>\n",
       "      <td>5.96</td>\n",
       "      <td>1.71</td>\n",
       "      <td>2.10</td>\n",
       "      <td>14.97</td>\n",
       "      <td>124.90</td>\n",
       "    </tr>\n",
       "    <tr>\n",
       "      <th>1</th>\n",
       "      <td>Arizona</td>\n",
       "      <td>161705602.00</td>\n",
       "      <td>887253.00</td>\n",
       "      <td>182.25</td>\n",
       "      <td>81486.00</td>\n",
       "      <td>34.70</td>\n",
       "      <td>57.31</td>\n",
       "      <td>4.76</td>\n",
       "      <td>4.02</td>\n",
       "      <td>3.99</td>\n",
       "      <td>0.18</td>\n",
       "      <td>9.34</td>\n",
       "      <td>20.40</td>\n",
       "      <td>110.70</td>\n",
       "    </tr>\n",
       "    <tr>\n",
       "      <th>2</th>\n",
       "      <td>Arkansas</td>\n",
       "      <td>41434391.00</td>\n",
       "      <td>239748.00</td>\n",
       "      <td>172.82</td>\n",
       "      <td>62106.00</td>\n",
       "      <td>27.10</td>\n",
       "      <td>68.19</td>\n",
       "      <td>14.18</td>\n",
       "      <td>0.55</td>\n",
       "      <td>1.79</td>\n",
       "      <td>0.38</td>\n",
       "      <td>3.13</td>\n",
       "      <td>11.79</td>\n",
       "      <td>89.60</td>\n",
       "    </tr>\n",
       "    <tr>\n",
       "      <th>3</th>\n",
       "      <td>California</td>\n",
       "      <td>1045310679.00</td>\n",
       "      <td>5494318.00</td>\n",
       "      <td>190.25</td>\n",
       "      <td>100149.00</td>\n",
       "      <td>38.10</td>\n",
       "      <td>38.08</td>\n",
       "      <td>5.35</td>\n",
       "      <td>1.42</td>\n",
       "      <td>16.10</td>\n",
       "      <td>0.40</td>\n",
       "      <td>18.85</td>\n",
       "      <td>19.80</td>\n",
       "      <td>142.30</td>\n",
       "    </tr>\n",
       "    <tr>\n",
       "      <th>4</th>\n",
       "      <td>Colorado</td>\n",
       "      <td>120493408.00</td>\n",
       "      <td>614843.00</td>\n",
       "      <td>195.97</td>\n",
       "      <td>97113.00</td>\n",
       "      <td>47.80</td>\n",
       "      <td>69.36</td>\n",
       "      <td>4.25</td>\n",
       "      <td>1.17</td>\n",
       "      <td>3.48</td>\n",
       "      <td>0.17</td>\n",
       "      <td>6.32</td>\n",
       "      <td>15.24</td>\n",
       "      <td>102.70</td>\n",
       "    </tr>\n",
       "  </tbody>\n",
       "</table>\n",
       "</div>"
      ],
      "text/plain": [
       "        state  total_benefits    persons  benefits_per_person  median_income  bachelor_pct  white_pct  black_pct  \\\n",
       "0      Alaska     24181479.00   66377.00               364.31       95665.00         32.80      58.71       2.51   \n",
       "1     Arizona    161705602.00  887253.00               182.25       81486.00         34.70      57.31       4.76   \n",
       "2    Arkansas     41434391.00  239748.00               172.82       62106.00         27.10      68.19      14.18   \n",
       "3  California   1045310679.00 5494318.00               190.25      100149.00         38.10      38.08       5.35   \n",
       "4    Colorado    120493408.00  614843.00               195.97       97113.00         47.80      69.36       4.25   \n",
       "\n",
       "   native_pct  asian_pct  pacific_pct  other_pct  two_plus_pct   coli  \n",
       "0       14.05       5.96         1.71       2.10         14.97 124.90  \n",
       "1        4.02       3.99         0.18       9.34         20.40 110.70  \n",
       "2        0.55       1.79         0.38       3.13         11.79  89.60  \n",
       "3        1.42      16.10         0.40      18.85         19.80 142.30  \n",
       "4        1.17       3.48         0.17       6.32         15.24 102.70  "
      ]
     },
     "execution_count": 69,
     "metadata": {},
     "output_type": "execute_result"
    }
   ],
   "source": [
    "import pandas as pd\n",
    "\n",
    "pd.set_option('display.float_format', '{:.2f}'.format)\n",
    "pd.set_option('display.max_columns', None)\n",
    "pd.set_option('display.width', 120)\n",
    "\n",
    "snap_full.head()\n",
    "\n"
   ]
  },
  {
   "cell_type": "code",
   "execution_count": null,
   "id": "0f225ff3",
   "metadata": {},
   "outputs": [],
   "source": []
  }
 ],
 "metadata": {
  "kernelspec": {
   "display_name": "base",
   "language": "python",
   "name": "python3"
  },
  "language_info": {
   "codemirror_mode": {
    "name": "ipython",
    "version": 3
   },
   "file_extension": ".py",
   "mimetype": "text/x-python",
   "name": "python",
   "nbconvert_exporter": "python",
   "pygments_lexer": "ipython3",
   "version": "3.13.5"
  }
 },
 "nbformat": 4,
 "nbformat_minor": 5
}
